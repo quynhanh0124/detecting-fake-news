{
 "cells": [
  {
   "cell_type": "markdown",
   "metadata": {
    "id": "eFCzIBshcHmg"
   },
   "source": [
    "# **Final Project**\n",
    "\n",
    "## **Problem stament :**     \n",
    "\n",
    "The widespread dissemination of fake news and propaganda presents serious societal risks, including the erosion of public trust, political polarization, manipulation of elections, and the spread of harmful misinformation during crises such as pandemics or conflicts. From an NLP perspective, detecting fake news is fraught with challenges. Linguistically, fake news often mimics the tone and structure of legitimate journalism, making it difficult to distinguish using surface-level features. The absence of reliable and up-to-date labeled datasets, especially across multiple languages and regions, hampers the effectiveness of supervised learning models. Additionally, the dynamic and adversarial nature of misinformation means that malicious actors constantly evolve their language and strategies to bypass detection systems. Cultural context, sarcasm, satire, and implicit bias further complicate automated analysis. Moreover, NLP models risk amplifying biases present in training data, leading to unfair classifications and potential censorship of legitimate content. These challenges underscore the need for cautious, context-aware approaches, as the failure to address them can inadvertently contribute to misinformation, rather than mitigate it.\n",
    "\n",
    "\n",
    "\n",
    "Use datasets in link : https://drive.google.com/drive/folders/1mrX3vPKhEzxG96OCPpCeh9F8m_QKCM4z?usp=sharing\n",
    "to complete requirement.\n",
    "\n",
    "## **About dataset:**\n",
    "\n",
    "* **True Articles**:\n",
    "\n",
    "  * **File**: `MisinfoSuperset_TRUE.csv`\n",
    "  * **Sources**:\n",
    "\n",
    "    * Reputable media outlets like **Reuters**, **The New York Times**, **The Washington Post**, etc.\n",
    "\n",
    "* **Fake/Misinformation/Propaganda Articles**:\n",
    "\n",
    "  * **File**: `MisinfoSuperset_FAKE.csv`\n",
    "  * **Sources**:\n",
    "\n",
    "    * **American right-wing extremist websites** (e.g., Redflag Newsdesk, Breitbart, Truth Broadcast Network)\n",
    "    * **Public dataset** from:\n",
    "\n",
    "      * Ahmed, H., Traore, I., & Saad, S. (2017): \"Detection of Online Fake News Using N-Gram Analysis and Machine Learning Techniques\" *(Springer LNCS 10618)*\n",
    "\n",
    "\n",
    "\n",
    "## **Requirement**\n",
    "\n",
    "A team consisting of three members must complete a project that involves applying the methods learned from the beginning of the course up to the present. The team is expected to follow and document the entire machine learning workflow, which includes the following steps:\n",
    "\n",
    "1. **Data Preprocessing**: Clean and prepare the dataset,etc.\n",
    "\n",
    "2. **Exploratory Data Analysis (EDA)**: Explore and visualize the data.\n",
    "\n",
    "3. **Model Building**: Select and build one or more machine learning models suitable for the problem at hand.\n",
    "\n",
    "4. **Hyperparameter set up**: Set and adjust the model's hyperparameters using appropriate methods to improve performance.\n",
    "\n",
    "5. **Model Training**: Train the model(s) on the training dataset.\n",
    "\n",
    "6. **Performance Evaluation**: Evaluate the trained model(s) using appropriate metrics (e.g., accuracy, precision, recall, F1-score, confusion matrix, etc.) and validate their performance on unseen data.\n",
    "\n",
    "7. **Conclusion**: Summarize the results, discuss the model's strengths and weaknesses, and suggest possible improvements or future work.\n",
    "\n",
    "\n",
    "\n"
   ]
  },
  {
   "cell_type": "markdown",
   "metadata": {},
   "source": [
    "# Read dataset"
   ]
  },
  {
   "cell_type": "code",
   "execution_count": 1,
   "metadata": {
    "execution": {
     "iopub.execute_input": "2025-06-09T03:40:34.393001Z",
     "iopub.status.busy": "2025-06-09T03:40:34.392641Z",
     "iopub.status.idle": "2025-06-09T03:40:38.121083Z",
     "shell.execute_reply": "2025-06-09T03:40:38.120012Z",
     "shell.execute_reply.started": "2025-06-09T03:40:34.392967Z"
    },
    "trusted": true
   },
   "outputs": [
    {
     "name": "stdout",
     "output_type": "stream",
     "text": [
      "Collecting contractions\n",
      "  Downloading contractions-0.1.73-py2.py3-none-any.whl.metadata (1.2 kB)\n",
      "Collecting textsearch>=0.0.21 (from contractions)\n",
      "  Downloading textsearch-0.0.24-py2.py3-none-any.whl.metadata (1.2 kB)\n",
      "Collecting anyascii (from textsearch>=0.0.21->contractions)\n",
      "  Downloading anyascii-0.3.2-py3-none-any.whl.metadata (1.5 kB)\n",
      "Collecting pyahocorasick (from textsearch>=0.0.21->contractions)\n",
      "  Downloading pyahocorasick-2.1.0-cp312-cp312-win_amd64.whl.metadata (13 kB)\n",
      "Downloading contractions-0.1.73-py2.py3-none-any.whl (8.7 kB)\n",
      "Downloading textsearch-0.0.24-py2.py3-none-any.whl (7.6 kB)\n",
      "Downloading anyascii-0.3.2-py3-none-any.whl (289 kB)\n",
      "Downloading pyahocorasick-2.1.0-cp312-cp312-win_amd64.whl (39 kB)\n",
      "Installing collected packages: pyahocorasick, anyascii, textsearch, contractions\n",
      "Successfully installed anyascii-0.3.2 contractions-0.1.73 pyahocorasick-2.1.0 textsearch-0.0.24\n"
     ]
    },
    {
     "name": "stderr",
     "output_type": "stream",
     "text": [
      "\n",
      "[notice] A new release of pip is available: 25.0.1 -> 25.1.1\n",
      "[notice] To update, run: python.exe -m pip install --upgrade pip\n"
     ]
    }
   ],
   "source": [
    "!pip install contractions"
   ]
  },
  {
   "cell_type": "code",
   "execution_count": 2,
   "metadata": {
    "execution": {
     "iopub.execute_input": "2025-06-09T03:40:38.122528Z",
     "iopub.status.busy": "2025-06-09T03:40:38.122248Z",
     "iopub.status.idle": "2025-06-09T03:40:41.675570Z",
     "shell.execute_reply": "2025-06-09T03:40:41.674407Z",
     "shell.execute_reply.started": "2025-06-09T03:40:38.122498Z"
    },
    "trusted": true
   },
   "outputs": [
    {
     "name": "stdout",
     "output_type": "stream",
     "text": [
      "Requirement already satisfied: langdetect in c:\\users\\phuong\\appdata\\local\\programs\\python\\python312\\lib\\site-packages (1.0.9)\n",
      "Requirement already satisfied: six in c:\\users\\phuong\\appdata\\roaming\\python\\python312\\site-packages (from langdetect) (1.16.0)\n"
     ]
    },
    {
     "name": "stderr",
     "output_type": "stream",
     "text": [
      "\n",
      "[notice] A new release of pip is available: 25.0.1 -> 25.1.1\n",
      "[notice] To update, run: python.exe -m pip install --upgrade pip\n"
     ]
    }
   ],
   "source": [
    "!pip install langdetect"
   ]
  },
  {
   "cell_type": "code",
   "execution_count": 3,
   "metadata": {
    "execution": {
     "iopub.execute_input": "2025-06-09T04:20:11.776631Z",
     "iopub.status.busy": "2025-06-09T04:20:11.776245Z",
     "iopub.status.idle": "2025-06-09T04:20:12.179952Z",
     "shell.execute_reply": "2025-06-09T04:20:12.178985Z",
     "shell.execute_reply.started": "2025-06-09T04:20:11.776605Z"
    },
    "trusted": true
   },
   "outputs": [],
   "source": [
    "import pandas as pd\n",
    "import re\n",
    "import contractions\n",
    "\n",
    "import nltk\n",
    "from nltk.corpus import stopwords\n",
    "from nltk.stem import PorterStemmer\n",
    "from nltk.tokenize import word_tokenize\n",
    "from transformers import BertTokenizer\n",
    "\n",
    "import html\n",
    "import quopri\n",
    "import emoji\n",
    "from bs4 import BeautifulSoup\n",
    "from langdetect import detect, LangDetectException"
   ]
  },
  {
   "cell_type": "code",
   "execution_count": 4,
   "metadata": {
    "execution": {
     "iopub.execute_input": "2025-06-09T03:40:46.235320Z",
     "iopub.status.busy": "2025-06-09T03:40:46.234892Z",
     "iopub.status.idle": "2025-06-09T03:40:48.058429Z",
     "shell.execute_reply": "2025-06-09T03:40:48.057736Z",
     "shell.execute_reply.started": "2025-06-09T03:40:46.235297Z"
    },
    "trusted": true
   },
   "outputs": [
    {
     "ename": "FileNotFoundError",
     "evalue": "[Errno 2] No such file or directory: '/kaggle/input/misinfo/DataSet_Misinfo_TRUE.csv'",
     "output_type": "error",
     "traceback": [
      "\u001b[1;31m---------------------------------------------------------------------------\u001b[0m",
      "\u001b[1;31mFileNotFoundError\u001b[0m                         Traceback (most recent call last)",
      "Cell \u001b[1;32mIn[4], line 1\u001b[0m\n\u001b[1;32m----> 1\u001b[0m true_df \u001b[38;5;241m=\u001b[39m \u001b[43mpd\u001b[49m\u001b[38;5;241;43m.\u001b[39;49m\u001b[43mread_csv\u001b[49m\u001b[43m(\u001b[49m\u001b[38;5;124;43m\"\u001b[39;49m\u001b[38;5;124;43m/kaggle/input/misinfo/DataSet_Misinfo_TRUE.csv\u001b[39;49m\u001b[38;5;124;43m\"\u001b[39;49m\u001b[43m)\u001b[49m\n\u001b[0;32m      2\u001b[0m true_df\n",
      "File \u001b[1;32mc:\\Users\\Phuong\\AppData\\Local\\Programs\\Python\\Python312\\Lib\\site-packages\\pandas\\io\\parsers\\readers.py:1026\u001b[0m, in \u001b[0;36mread_csv\u001b[1;34m(filepath_or_buffer, sep, delimiter, header, names, index_col, usecols, dtype, engine, converters, true_values, false_values, skipinitialspace, skiprows, skipfooter, nrows, na_values, keep_default_na, na_filter, verbose, skip_blank_lines, parse_dates, infer_datetime_format, keep_date_col, date_parser, date_format, dayfirst, cache_dates, iterator, chunksize, compression, thousands, decimal, lineterminator, quotechar, quoting, doublequote, escapechar, comment, encoding, encoding_errors, dialect, on_bad_lines, delim_whitespace, low_memory, memory_map, float_precision, storage_options, dtype_backend)\u001b[0m\n\u001b[0;32m   1013\u001b[0m kwds_defaults \u001b[38;5;241m=\u001b[39m _refine_defaults_read(\n\u001b[0;32m   1014\u001b[0m     dialect,\n\u001b[0;32m   1015\u001b[0m     delimiter,\n\u001b[1;32m   (...)\u001b[0m\n\u001b[0;32m   1022\u001b[0m     dtype_backend\u001b[38;5;241m=\u001b[39mdtype_backend,\n\u001b[0;32m   1023\u001b[0m )\n\u001b[0;32m   1024\u001b[0m kwds\u001b[38;5;241m.\u001b[39mupdate(kwds_defaults)\n\u001b[1;32m-> 1026\u001b[0m \u001b[38;5;28;01mreturn\u001b[39;00m \u001b[43m_read\u001b[49m\u001b[43m(\u001b[49m\u001b[43mfilepath_or_buffer\u001b[49m\u001b[43m,\u001b[49m\u001b[43m \u001b[49m\u001b[43mkwds\u001b[49m\u001b[43m)\u001b[49m\n",
      "File \u001b[1;32mc:\\Users\\Phuong\\AppData\\Local\\Programs\\Python\\Python312\\Lib\\site-packages\\pandas\\io\\parsers\\readers.py:620\u001b[0m, in \u001b[0;36m_read\u001b[1;34m(filepath_or_buffer, kwds)\u001b[0m\n\u001b[0;32m    617\u001b[0m _validate_names(kwds\u001b[38;5;241m.\u001b[39mget(\u001b[38;5;124m\"\u001b[39m\u001b[38;5;124mnames\u001b[39m\u001b[38;5;124m\"\u001b[39m, \u001b[38;5;28;01mNone\u001b[39;00m))\n\u001b[0;32m    619\u001b[0m \u001b[38;5;66;03m# Create the parser.\u001b[39;00m\n\u001b[1;32m--> 620\u001b[0m parser \u001b[38;5;241m=\u001b[39m \u001b[43mTextFileReader\u001b[49m\u001b[43m(\u001b[49m\u001b[43mfilepath_or_buffer\u001b[49m\u001b[43m,\u001b[49m\u001b[43m \u001b[49m\u001b[38;5;241;43m*\u001b[39;49m\u001b[38;5;241;43m*\u001b[39;49m\u001b[43mkwds\u001b[49m\u001b[43m)\u001b[49m\n\u001b[0;32m    622\u001b[0m \u001b[38;5;28;01mif\u001b[39;00m chunksize \u001b[38;5;129;01mor\u001b[39;00m iterator:\n\u001b[0;32m    623\u001b[0m     \u001b[38;5;28;01mreturn\u001b[39;00m parser\n",
      "File \u001b[1;32mc:\\Users\\Phuong\\AppData\\Local\\Programs\\Python\\Python312\\Lib\\site-packages\\pandas\\io\\parsers\\readers.py:1620\u001b[0m, in \u001b[0;36mTextFileReader.__init__\u001b[1;34m(self, f, engine, **kwds)\u001b[0m\n\u001b[0;32m   1617\u001b[0m     \u001b[38;5;28mself\u001b[39m\u001b[38;5;241m.\u001b[39moptions[\u001b[38;5;124m\"\u001b[39m\u001b[38;5;124mhas_index_names\u001b[39m\u001b[38;5;124m\"\u001b[39m] \u001b[38;5;241m=\u001b[39m kwds[\u001b[38;5;124m\"\u001b[39m\u001b[38;5;124mhas_index_names\u001b[39m\u001b[38;5;124m\"\u001b[39m]\n\u001b[0;32m   1619\u001b[0m \u001b[38;5;28mself\u001b[39m\u001b[38;5;241m.\u001b[39mhandles: IOHandles \u001b[38;5;241m|\u001b[39m \u001b[38;5;28;01mNone\u001b[39;00m \u001b[38;5;241m=\u001b[39m \u001b[38;5;28;01mNone\u001b[39;00m\n\u001b[1;32m-> 1620\u001b[0m \u001b[38;5;28mself\u001b[39m\u001b[38;5;241m.\u001b[39m_engine \u001b[38;5;241m=\u001b[39m \u001b[38;5;28;43mself\u001b[39;49m\u001b[38;5;241;43m.\u001b[39;49m\u001b[43m_make_engine\u001b[49m\u001b[43m(\u001b[49m\u001b[43mf\u001b[49m\u001b[43m,\u001b[49m\u001b[43m \u001b[49m\u001b[38;5;28;43mself\u001b[39;49m\u001b[38;5;241;43m.\u001b[39;49m\u001b[43mengine\u001b[49m\u001b[43m)\u001b[49m\n",
      "File \u001b[1;32mc:\\Users\\Phuong\\AppData\\Local\\Programs\\Python\\Python312\\Lib\\site-packages\\pandas\\io\\parsers\\readers.py:1880\u001b[0m, in \u001b[0;36mTextFileReader._make_engine\u001b[1;34m(self, f, engine)\u001b[0m\n\u001b[0;32m   1878\u001b[0m     \u001b[38;5;28;01mif\u001b[39;00m \u001b[38;5;124m\"\u001b[39m\u001b[38;5;124mb\u001b[39m\u001b[38;5;124m\"\u001b[39m \u001b[38;5;129;01mnot\u001b[39;00m \u001b[38;5;129;01min\u001b[39;00m mode:\n\u001b[0;32m   1879\u001b[0m         mode \u001b[38;5;241m+\u001b[39m\u001b[38;5;241m=\u001b[39m \u001b[38;5;124m\"\u001b[39m\u001b[38;5;124mb\u001b[39m\u001b[38;5;124m\"\u001b[39m\n\u001b[1;32m-> 1880\u001b[0m \u001b[38;5;28mself\u001b[39m\u001b[38;5;241m.\u001b[39mhandles \u001b[38;5;241m=\u001b[39m \u001b[43mget_handle\u001b[49m\u001b[43m(\u001b[49m\n\u001b[0;32m   1881\u001b[0m \u001b[43m    \u001b[49m\u001b[43mf\u001b[49m\u001b[43m,\u001b[49m\n\u001b[0;32m   1882\u001b[0m \u001b[43m    \u001b[49m\u001b[43mmode\u001b[49m\u001b[43m,\u001b[49m\n\u001b[0;32m   1883\u001b[0m \u001b[43m    \u001b[49m\u001b[43mencoding\u001b[49m\u001b[38;5;241;43m=\u001b[39;49m\u001b[38;5;28;43mself\u001b[39;49m\u001b[38;5;241;43m.\u001b[39;49m\u001b[43moptions\u001b[49m\u001b[38;5;241;43m.\u001b[39;49m\u001b[43mget\u001b[49m\u001b[43m(\u001b[49m\u001b[38;5;124;43m\"\u001b[39;49m\u001b[38;5;124;43mencoding\u001b[39;49m\u001b[38;5;124;43m\"\u001b[39;49m\u001b[43m,\u001b[49m\u001b[43m \u001b[49m\u001b[38;5;28;43;01mNone\u001b[39;49;00m\u001b[43m)\u001b[49m\u001b[43m,\u001b[49m\n\u001b[0;32m   1884\u001b[0m \u001b[43m    \u001b[49m\u001b[43mcompression\u001b[49m\u001b[38;5;241;43m=\u001b[39;49m\u001b[38;5;28;43mself\u001b[39;49m\u001b[38;5;241;43m.\u001b[39;49m\u001b[43moptions\u001b[49m\u001b[38;5;241;43m.\u001b[39;49m\u001b[43mget\u001b[49m\u001b[43m(\u001b[49m\u001b[38;5;124;43m\"\u001b[39;49m\u001b[38;5;124;43mcompression\u001b[39;49m\u001b[38;5;124;43m\"\u001b[39;49m\u001b[43m,\u001b[49m\u001b[43m \u001b[49m\u001b[38;5;28;43;01mNone\u001b[39;49;00m\u001b[43m)\u001b[49m\u001b[43m,\u001b[49m\n\u001b[0;32m   1885\u001b[0m \u001b[43m    \u001b[49m\u001b[43mmemory_map\u001b[49m\u001b[38;5;241;43m=\u001b[39;49m\u001b[38;5;28;43mself\u001b[39;49m\u001b[38;5;241;43m.\u001b[39;49m\u001b[43moptions\u001b[49m\u001b[38;5;241;43m.\u001b[39;49m\u001b[43mget\u001b[49m\u001b[43m(\u001b[49m\u001b[38;5;124;43m\"\u001b[39;49m\u001b[38;5;124;43mmemory_map\u001b[39;49m\u001b[38;5;124;43m\"\u001b[39;49m\u001b[43m,\u001b[49m\u001b[43m \u001b[49m\u001b[38;5;28;43;01mFalse\u001b[39;49;00m\u001b[43m)\u001b[49m\u001b[43m,\u001b[49m\n\u001b[0;32m   1886\u001b[0m \u001b[43m    \u001b[49m\u001b[43mis_text\u001b[49m\u001b[38;5;241;43m=\u001b[39;49m\u001b[43mis_text\u001b[49m\u001b[43m,\u001b[49m\n\u001b[0;32m   1887\u001b[0m \u001b[43m    \u001b[49m\u001b[43merrors\u001b[49m\u001b[38;5;241;43m=\u001b[39;49m\u001b[38;5;28;43mself\u001b[39;49m\u001b[38;5;241;43m.\u001b[39;49m\u001b[43moptions\u001b[49m\u001b[38;5;241;43m.\u001b[39;49m\u001b[43mget\u001b[49m\u001b[43m(\u001b[49m\u001b[38;5;124;43m\"\u001b[39;49m\u001b[38;5;124;43mencoding_errors\u001b[39;49m\u001b[38;5;124;43m\"\u001b[39;49m\u001b[43m,\u001b[49m\u001b[43m \u001b[49m\u001b[38;5;124;43m\"\u001b[39;49m\u001b[38;5;124;43mstrict\u001b[39;49m\u001b[38;5;124;43m\"\u001b[39;49m\u001b[43m)\u001b[49m\u001b[43m,\u001b[49m\n\u001b[0;32m   1888\u001b[0m \u001b[43m    \u001b[49m\u001b[43mstorage_options\u001b[49m\u001b[38;5;241;43m=\u001b[39;49m\u001b[38;5;28;43mself\u001b[39;49m\u001b[38;5;241;43m.\u001b[39;49m\u001b[43moptions\u001b[49m\u001b[38;5;241;43m.\u001b[39;49m\u001b[43mget\u001b[49m\u001b[43m(\u001b[49m\u001b[38;5;124;43m\"\u001b[39;49m\u001b[38;5;124;43mstorage_options\u001b[39;49m\u001b[38;5;124;43m\"\u001b[39;49m\u001b[43m,\u001b[49m\u001b[43m \u001b[49m\u001b[38;5;28;43;01mNone\u001b[39;49;00m\u001b[43m)\u001b[49m\u001b[43m,\u001b[49m\n\u001b[0;32m   1889\u001b[0m \u001b[43m\u001b[49m\u001b[43m)\u001b[49m\n\u001b[0;32m   1890\u001b[0m \u001b[38;5;28;01massert\u001b[39;00m \u001b[38;5;28mself\u001b[39m\u001b[38;5;241m.\u001b[39mhandles \u001b[38;5;129;01mis\u001b[39;00m \u001b[38;5;129;01mnot\u001b[39;00m \u001b[38;5;28;01mNone\u001b[39;00m\n\u001b[0;32m   1891\u001b[0m f \u001b[38;5;241m=\u001b[39m \u001b[38;5;28mself\u001b[39m\u001b[38;5;241m.\u001b[39mhandles\u001b[38;5;241m.\u001b[39mhandle\n",
      "File \u001b[1;32mc:\\Users\\Phuong\\AppData\\Local\\Programs\\Python\\Python312\\Lib\\site-packages\\pandas\\io\\common.py:873\u001b[0m, in \u001b[0;36mget_handle\u001b[1;34m(path_or_buf, mode, encoding, compression, memory_map, is_text, errors, storage_options)\u001b[0m\n\u001b[0;32m    868\u001b[0m \u001b[38;5;28;01melif\u001b[39;00m \u001b[38;5;28misinstance\u001b[39m(handle, \u001b[38;5;28mstr\u001b[39m):\n\u001b[0;32m    869\u001b[0m     \u001b[38;5;66;03m# Check whether the filename is to be opened in binary mode.\u001b[39;00m\n\u001b[0;32m    870\u001b[0m     \u001b[38;5;66;03m# Binary mode does not support 'encoding' and 'newline'.\u001b[39;00m\n\u001b[0;32m    871\u001b[0m     \u001b[38;5;28;01mif\u001b[39;00m ioargs\u001b[38;5;241m.\u001b[39mencoding \u001b[38;5;129;01mand\u001b[39;00m \u001b[38;5;124m\"\u001b[39m\u001b[38;5;124mb\u001b[39m\u001b[38;5;124m\"\u001b[39m \u001b[38;5;129;01mnot\u001b[39;00m \u001b[38;5;129;01min\u001b[39;00m ioargs\u001b[38;5;241m.\u001b[39mmode:\n\u001b[0;32m    872\u001b[0m         \u001b[38;5;66;03m# Encoding\u001b[39;00m\n\u001b[1;32m--> 873\u001b[0m         handle \u001b[38;5;241m=\u001b[39m \u001b[38;5;28;43mopen\u001b[39;49m\u001b[43m(\u001b[49m\n\u001b[0;32m    874\u001b[0m \u001b[43m            \u001b[49m\u001b[43mhandle\u001b[49m\u001b[43m,\u001b[49m\n\u001b[0;32m    875\u001b[0m \u001b[43m            \u001b[49m\u001b[43mioargs\u001b[49m\u001b[38;5;241;43m.\u001b[39;49m\u001b[43mmode\u001b[49m\u001b[43m,\u001b[49m\n\u001b[0;32m    876\u001b[0m \u001b[43m            \u001b[49m\u001b[43mencoding\u001b[49m\u001b[38;5;241;43m=\u001b[39;49m\u001b[43mioargs\u001b[49m\u001b[38;5;241;43m.\u001b[39;49m\u001b[43mencoding\u001b[49m\u001b[43m,\u001b[49m\n\u001b[0;32m    877\u001b[0m \u001b[43m            \u001b[49m\u001b[43merrors\u001b[49m\u001b[38;5;241;43m=\u001b[39;49m\u001b[43merrors\u001b[49m\u001b[43m,\u001b[49m\n\u001b[0;32m    878\u001b[0m \u001b[43m            \u001b[49m\u001b[43mnewline\u001b[49m\u001b[38;5;241;43m=\u001b[39;49m\u001b[38;5;124;43m\"\u001b[39;49m\u001b[38;5;124;43m\"\u001b[39;49m\u001b[43m,\u001b[49m\n\u001b[0;32m    879\u001b[0m \u001b[43m        \u001b[49m\u001b[43m)\u001b[49m\n\u001b[0;32m    880\u001b[0m     \u001b[38;5;28;01melse\u001b[39;00m:\n\u001b[0;32m    881\u001b[0m         \u001b[38;5;66;03m# Binary mode\u001b[39;00m\n\u001b[0;32m    882\u001b[0m         handle \u001b[38;5;241m=\u001b[39m \u001b[38;5;28mopen\u001b[39m(handle, ioargs\u001b[38;5;241m.\u001b[39mmode)\n",
      "\u001b[1;31mFileNotFoundError\u001b[0m: [Errno 2] No such file or directory: '/kaggle/input/misinfo/DataSet_Misinfo_TRUE.csv'"
     ]
    }
   ],
   "source": [
    "true_df = pd.read_csv(\"/kaggle/input/misinfo/DataSet_Misinfo_TRUE.csv\")\n",
    "true_df"
   ]
  },
  {
   "cell_type": "code",
   "execution_count": null,
   "metadata": {
    "execution": {
     "iopub.execute_input": "2025-06-09T03:40:48.059641Z",
     "iopub.status.busy": "2025-06-09T03:40:48.059266Z",
     "iopub.status.idle": "2025-06-09T03:40:49.511655Z",
     "shell.execute_reply": "2025-06-09T03:40:49.510718Z",
     "shell.execute_reply.started": "2025-06-09T03:40:48.059618Z"
    },
    "trusted": true
   },
   "outputs": [
    {
     "data": {
      "text/html": [
       "<div>\n",
       "<style scoped>\n",
       "    .dataframe tbody tr th:only-of-type {\n",
       "        vertical-align: middle;\n",
       "    }\n",
       "\n",
       "    .dataframe tbody tr th {\n",
       "        vertical-align: top;\n",
       "    }\n",
       "\n",
       "    .dataframe thead th {\n",
       "        text-align: right;\n",
       "    }\n",
       "</style>\n",
       "<table border=\"1\" class=\"dataframe\">\n",
       "  <thead>\n",
       "    <tr style=\"text-align: right;\">\n",
       "      <th></th>\n",
       "      <th>Unnamed: 0</th>\n",
       "      <th>text</th>\n",
       "    </tr>\n",
       "  </thead>\n",
       "  <tbody>\n",
       "    <tr>\n",
       "      <th>0</th>\n",
       "      <td>0</td>\n",
       "      <td>Donald Trump just couldn t wish all Americans ...</td>\n",
       "    </tr>\n",
       "    <tr>\n",
       "      <th>1</th>\n",
       "      <td>1</td>\n",
       "      <td>House Intelligence Committee Chairman Devin Nu...</td>\n",
       "    </tr>\n",
       "    <tr>\n",
       "      <th>2</th>\n",
       "      <td>2</td>\n",
       "      <td>On Friday, it was revealed that former Milwauk...</td>\n",
       "    </tr>\n",
       "    <tr>\n",
       "      <th>3</th>\n",
       "      <td>3</td>\n",
       "      <td>On Christmas day, Donald Trump announced that ...</td>\n",
       "    </tr>\n",
       "    <tr>\n",
       "      <th>4</th>\n",
       "      <td>4</td>\n",
       "      <td>Pope Francis used his annual Christmas Day mes...</td>\n",
       "    </tr>\n",
       "    <tr>\n",
       "      <th>...</th>\n",
       "      <td>...</td>\n",
       "      <td>...</td>\n",
       "    </tr>\n",
       "    <tr>\n",
       "      <th>43637</th>\n",
       "      <td>44422</td>\n",
       "      <td>The USA wants to divide Syria.\\r\\n\\r\\nGreat Br...</td>\n",
       "    </tr>\n",
       "    <tr>\n",
       "      <th>43638</th>\n",
       "      <td>44423</td>\n",
       "      <td>The Ukrainian coup d'etat cost the US nothing ...</td>\n",
       "    </tr>\n",
       "    <tr>\n",
       "      <th>43639</th>\n",
       "      <td>44424</td>\n",
       "      <td>The European Parliament falsifies history by d...</td>\n",
       "    </tr>\n",
       "    <tr>\n",
       "      <th>43640</th>\n",
       "      <td>44425</td>\n",
       "      <td>The European Parliament falsifies history by d...</td>\n",
       "    </tr>\n",
       "    <tr>\n",
       "      <th>43641</th>\n",
       "      <td>44426</td>\n",
       "      <td>A leading FSB officer, Segey Beseda, said duri...</td>\n",
       "    </tr>\n",
       "  </tbody>\n",
       "</table>\n",
       "<p>43642 rows × 2 columns</p>\n",
       "</div>"
      ],
      "text/plain": [
       "       Unnamed: 0                                               text\n",
       "0               0  Donald Trump just couldn t wish all Americans ...\n",
       "1               1  House Intelligence Committee Chairman Devin Nu...\n",
       "2               2  On Friday, it was revealed that former Milwauk...\n",
       "3               3  On Christmas day, Donald Trump announced that ...\n",
       "4               4  Pope Francis used his annual Christmas Day mes...\n",
       "...           ...                                                ...\n",
       "43637       44422  The USA wants to divide Syria.\\r\\n\\r\\nGreat Br...\n",
       "43638       44423  The Ukrainian coup d'etat cost the US nothing ...\n",
       "43639       44424  The European Parliament falsifies history by d...\n",
       "43640       44425  The European Parliament falsifies history by d...\n",
       "43641       44426  A leading FSB officer, Segey Beseda, said duri...\n",
       "\n",
       "[43642 rows x 2 columns]"
      ]
     },
     "execution_count": 5,
     "metadata": {},
     "output_type": "execute_result"
    }
   ],
   "source": [
    "fake_df = pd.read_csv(\"/kaggle/input/misinfo/DataSet_Misinfo_FAKE.csv\")\n",
    "fake_df"
   ]
  },
  {
   "cell_type": "code",
   "execution_count": null,
   "metadata": {
    "execution": {
     "iopub.execute_input": "2025-06-09T03:40:49.513095Z",
     "iopub.status.busy": "2025-06-09T03:40:49.512761Z",
     "iopub.status.idle": "2025-06-09T03:40:49.525877Z",
     "shell.execute_reply": "2025-06-09T03:40:49.524884Z",
     "shell.execute_reply.started": "2025-06-09T03:40:49.513064Z"
    },
    "trusted": true
   },
   "outputs": [],
   "source": [
    "# Delete order column\n",
    "true_df = true_df.drop('Unnamed: 0', axis=1)\n",
    "fake_df = fake_df.drop('Unnamed: 0', axis=1)"
   ]
  },
  {
   "cell_type": "code",
   "execution_count": null,
   "metadata": {
    "execution": {
     "iopub.execute_input": "2025-06-09T03:40:49.527331Z",
     "iopub.status.busy": "2025-06-09T03:40:49.526919Z",
     "iopub.status.idle": "2025-06-09T03:40:49.555161Z",
     "shell.execute_reply": "2025-06-09T03:40:49.554157Z",
     "shell.execute_reply.started": "2025-06-09T03:40:49.527303Z"
    },
    "trusted": true
   },
   "outputs": [
    {
     "name": "stdout",
     "output_type": "stream",
     "text": [
      "<class 'pandas.core.frame.DataFrame'>\n",
      "RangeIndex: 34975 entries, 0 to 34974\n",
      "Data columns (total 1 columns):\n",
      " #   Column  Non-Null Count  Dtype \n",
      "---  ------  --------------  ----- \n",
      " 0   text    34946 non-null  object\n",
      "dtypes: object(1)\n",
      "memory usage: 273.4+ KB\n"
     ]
    }
   ],
   "source": [
    "true_df.info()"
   ]
  },
  {
   "cell_type": "code",
   "execution_count": null,
   "metadata": {
    "execution": {
     "iopub.execute_input": "2025-06-09T03:40:49.556409Z",
     "iopub.status.busy": "2025-06-09T03:40:49.556085Z",
     "iopub.status.idle": "2025-06-09T03:40:49.583858Z",
     "shell.execute_reply": "2025-06-09T03:40:49.582912Z",
     "shell.execute_reply.started": "2025-06-09T03:40:49.556384Z"
    },
    "trusted": true
   },
   "outputs": [
    {
     "name": "stdout",
     "output_type": "stream",
     "text": [
      "<class 'pandas.core.frame.DataFrame'>\n",
      "RangeIndex: 43642 entries, 0 to 43641\n",
      "Data columns (total 1 columns):\n",
      " #   Column  Non-Null Count  Dtype \n",
      "---  ------  --------------  ----- \n",
      " 0   text    43642 non-null  object\n",
      "dtypes: object(1)\n",
      "memory usage: 341.1+ KB\n"
     ]
    }
   ],
   "source": [
    "fake_df.info()"
   ]
  },
  {
   "cell_type": "code",
   "execution_count": null,
   "metadata": {
    "execution": {
     "iopub.execute_input": "2025-06-09T03:40:49.585307Z",
     "iopub.status.busy": "2025-06-09T03:40:49.585053Z",
     "iopub.status.idle": "2025-06-09T03:40:49.727834Z",
     "shell.execute_reply": "2025-06-09T03:40:49.726753Z",
     "shell.execute_reply.started": "2025-06-09T03:40:49.585288Z"
    },
    "trusted": true
   },
   "outputs": [
    {
     "data": {
      "text/html": [
       "<div>\n",
       "<style scoped>\n",
       "    .dataframe tbody tr th:only-of-type {\n",
       "        vertical-align: middle;\n",
       "    }\n",
       "\n",
       "    .dataframe tbody tr th {\n",
       "        vertical-align: top;\n",
       "    }\n",
       "\n",
       "    .dataframe thead th {\n",
       "        text-align: right;\n",
       "    }\n",
       "</style>\n",
       "<table border=\"1\" class=\"dataframe\">\n",
       "  <thead>\n",
       "    <tr style=\"text-align: right;\">\n",
       "      <th></th>\n",
       "      <th>text</th>\n",
       "    </tr>\n",
       "  </thead>\n",
       "  <tbody>\n",
       "    <tr>\n",
       "      <th>count</th>\n",
       "      <td>34946</td>\n",
       "    </tr>\n",
       "    <tr>\n",
       "      <th>unique</th>\n",
       "      <td>34526</td>\n",
       "    </tr>\n",
       "    <tr>\n",
       "      <th>top</th>\n",
       "      <td>Killing Obama administration rules, dismantlin...</td>\n",
       "    </tr>\n",
       "    <tr>\n",
       "      <th>freq</th>\n",
       "      <td>58</td>\n",
       "    </tr>\n",
       "  </tbody>\n",
       "</table>\n",
       "</div>"
      ],
      "text/plain": [
       "                                                     text\n",
       "count                                               34946\n",
       "unique                                              34526\n",
       "top     Killing Obama administration rules, dismantlin...\n",
       "freq                                                   58"
      ]
     },
     "execution_count": 9,
     "metadata": {},
     "output_type": "execute_result"
    }
   ],
   "source": [
    "true_df.describe()"
   ]
  },
  {
   "cell_type": "code",
   "execution_count": null,
   "metadata": {
    "execution": {
     "iopub.execute_input": "2025-06-09T03:40:49.729572Z",
     "iopub.status.busy": "2025-06-09T03:40:49.729197Z",
     "iopub.status.idle": "2025-06-09T03:40:49.831416Z",
     "shell.execute_reply": "2025-06-09T03:40:49.830526Z",
     "shell.execute_reply.started": "2025-06-09T03:40:49.729540Z"
    },
    "trusted": true
   },
   "outputs": [
    {
     "data": {
      "text/html": [
       "<div>\n",
       "<style scoped>\n",
       "    .dataframe tbody tr th:only-of-type {\n",
       "        vertical-align: middle;\n",
       "    }\n",
       "\n",
       "    .dataframe tbody tr th {\n",
       "        vertical-align: top;\n",
       "    }\n",
       "\n",
       "    .dataframe thead th {\n",
       "        text-align: right;\n",
       "    }\n",
       "</style>\n",
       "<table border=\"1\" class=\"dataframe\">\n",
       "  <thead>\n",
       "    <tr style=\"text-align: right;\">\n",
       "      <th></th>\n",
       "      <th>text</th>\n",
       "    </tr>\n",
       "  </thead>\n",
       "  <tbody>\n",
       "    <tr>\n",
       "      <th>count</th>\n",
       "      <td>43642</td>\n",
       "    </tr>\n",
       "    <tr>\n",
       "      <th>unique</th>\n",
       "      <td>34078</td>\n",
       "    </tr>\n",
       "    <tr>\n",
       "      <th>top</th>\n",
       "      <td>Leave a Reply Click here to get more info on f...</td>\n",
       "    </tr>\n",
       "    <tr>\n",
       "      <th>freq</th>\n",
       "      <td>38</td>\n",
       "    </tr>\n",
       "  </tbody>\n",
       "</table>\n",
       "</div>"
      ],
      "text/plain": [
       "                                                     text\n",
       "count                                               43642\n",
       "unique                                              34078\n",
       "top     Leave a Reply Click here to get more info on f...\n",
       "freq                                                   38"
      ]
     },
     "execution_count": 10,
     "metadata": {},
     "output_type": "execute_result"
    }
   ],
   "source": [
    "fake_df.describe()"
   ]
  },
  {
   "cell_type": "markdown",
   "metadata": {},
   "source": [
    "# Data Preprocessing"
   ]
  },
  {
   "cell_type": "markdown",
   "metadata": {},
   "source": [
    "- Xử lý giá trị null"
   ]
  },
  {
   "cell_type": "code",
   "execution_count": null,
   "metadata": {
    "execution": {
     "iopub.execute_input": "2025-06-09T03:40:49.832919Z",
     "iopub.status.busy": "2025-06-09T03:40:49.832474Z",
     "iopub.status.idle": "2025-06-09T03:40:49.846993Z",
     "shell.execute_reply": "2025-06-09T03:40:49.845891Z",
     "shell.execute_reply.started": "2025-06-09T03:40:49.832891Z"
    },
    "trusted": true
   },
   "outputs": [
    {
     "data": {
      "text/plain": [
       "text    29\n",
       "dtype: int64"
      ]
     },
     "execution_count": 11,
     "metadata": {},
     "output_type": "execute_result"
    }
   ],
   "source": [
    "true_df.isnull().sum()"
   ]
  },
  {
   "cell_type": "code",
   "execution_count": null,
   "metadata": {
    "execution": {
     "iopub.execute_input": "2025-06-09T03:40:49.848702Z",
     "iopub.status.busy": "2025-06-09T03:40:49.848359Z",
     "iopub.status.idle": "2025-06-09T03:40:49.872512Z",
     "shell.execute_reply": "2025-06-09T03:40:49.871529Z",
     "shell.execute_reply.started": "2025-06-09T03:40:49.848649Z"
    },
    "trusted": true
   },
   "outputs": [
    {
     "data": {
      "text/plain": [
       "text    0\n",
       "dtype: int64"
      ]
     },
     "execution_count": 12,
     "metadata": {},
     "output_type": "execute_result"
    }
   ],
   "source": [
    "fake_df.isnull().sum()"
   ]
  },
  {
   "cell_type": "code",
   "execution_count": null,
   "metadata": {
    "execution": {
     "iopub.execute_input": "2025-06-09T03:40:49.876499Z",
     "iopub.status.busy": "2025-06-09T03:40:49.876222Z",
     "iopub.status.idle": "2025-06-09T03:40:49.899335Z",
     "shell.execute_reply": "2025-06-09T03:40:49.898505Z",
     "shell.execute_reply.started": "2025-06-09T03:40:49.876470Z"
    },
    "trusted": true
   },
   "outputs": [],
   "source": [
    "true_df = true_df.dropna()"
   ]
  },
  {
   "cell_type": "markdown",
   "metadata": {},
   "source": [
    "- Xử lý giá trị duplicate"
   ]
  },
  {
   "cell_type": "code",
   "execution_count": null,
   "metadata": {
    "execution": {
     "iopub.execute_input": "2025-06-09T03:40:49.901252Z",
     "iopub.status.busy": "2025-06-09T03:40:49.900522Z",
     "iopub.status.idle": "2025-06-09T03:40:49.916080Z",
     "shell.execute_reply": "2025-06-09T03:40:49.915079Z",
     "shell.execute_reply.started": "2025-06-09T03:40:49.901220Z"
    },
    "trusted": true
   },
   "outputs": [
    {
     "data": {
      "text/plain": [
       "420"
      ]
     },
     "execution_count": 14,
     "metadata": {},
     "output_type": "execute_result"
    }
   ],
   "source": [
    "true_df.duplicated().sum()"
   ]
  },
  {
   "cell_type": "code",
   "execution_count": null,
   "metadata": {
    "execution": {
     "iopub.execute_input": "2025-06-09T03:40:49.917382Z",
     "iopub.status.busy": "2025-06-09T03:40:49.917084Z",
     "iopub.status.idle": "2025-06-09T03:40:49.941349Z",
     "shell.execute_reply": "2025-06-09T03:40:49.940503Z",
     "shell.execute_reply.started": "2025-06-09T03:40:49.917356Z"
    },
    "trusted": true
   },
   "outputs": [
    {
     "data": {
      "text/plain": [
       "9564"
      ]
     },
     "execution_count": 15,
     "metadata": {},
     "output_type": "execute_result"
    }
   ],
   "source": [
    "fake_df.duplicated().sum()"
   ]
  },
  {
   "cell_type": "code",
   "execution_count": null,
   "metadata": {
    "execution": {
     "iopub.execute_input": "2025-06-09T03:40:49.942614Z",
     "iopub.status.busy": "2025-06-09T03:40:49.942301Z",
     "iopub.status.idle": "2025-06-09T03:40:49.977981Z",
     "shell.execute_reply": "2025-06-09T03:40:49.976958Z",
     "shell.execute_reply.started": "2025-06-09T03:40:49.942581Z"
    },
    "trusted": true
   },
   "outputs": [],
   "source": [
    "true_df = true_df.drop_duplicates()\n",
    "fake_df = fake_df.drop_duplicates()"
   ]
  },
  {
   "cell_type": "markdown",
   "metadata": {},
   "source": [
    "- Thêm label và gộp 2 tập dữ liệu"
   ]
  },
  {
   "cell_type": "code",
   "execution_count": null,
   "metadata": {
    "execution": {
     "iopub.execute_input": "2025-06-09T03:40:49.979447Z",
     "iopub.status.busy": "2025-06-09T03:40:49.979071Z",
     "iopub.status.idle": "2025-06-09T03:40:49.994341Z",
     "shell.execute_reply": "2025-06-09T03:40:49.993435Z",
     "shell.execute_reply.started": "2025-06-09T03:40:49.979420Z"
    },
    "trusted": true
   },
   "outputs": [
    {
     "data": {
      "text/html": [
       "<div>\n",
       "<style scoped>\n",
       "    .dataframe tbody tr th:only-of-type {\n",
       "        vertical-align: middle;\n",
       "    }\n",
       "\n",
       "    .dataframe tbody tr th {\n",
       "        vertical-align: top;\n",
       "    }\n",
       "\n",
       "    .dataframe thead th {\n",
       "        text-align: right;\n",
       "    }\n",
       "</style>\n",
       "<table border=\"1\" class=\"dataframe\">\n",
       "  <thead>\n",
       "    <tr style=\"text-align: right;\">\n",
       "      <th></th>\n",
       "      <th>text</th>\n",
       "      <th>label</th>\n",
       "    </tr>\n",
       "  </thead>\n",
       "  <tbody>\n",
       "    <tr>\n",
       "      <th>0</th>\n",
       "      <td>The head of a conservative Republican faction ...</td>\n",
       "      <td>1</td>\n",
       "    </tr>\n",
       "    <tr>\n",
       "      <th>1</th>\n",
       "      <td>Transgender people will be allowed for the fir...</td>\n",
       "      <td>1</td>\n",
       "    </tr>\n",
       "    <tr>\n",
       "      <th>2</th>\n",
       "      <td>The special counsel investigation of links bet...</td>\n",
       "      <td>1</td>\n",
       "    </tr>\n",
       "    <tr>\n",
       "      <th>3</th>\n",
       "      <td>Trump campaign adviser George Papadopoulos tol...</td>\n",
       "      <td>1</td>\n",
       "    </tr>\n",
       "    <tr>\n",
       "      <th>4</th>\n",
       "      <td>President Donald Trump called on the U.S. Post...</td>\n",
       "      <td>1</td>\n",
       "    </tr>\n",
       "    <tr>\n",
       "      <th>...</th>\n",
       "      <td>...</td>\n",
       "      <td>...</td>\n",
       "    </tr>\n",
       "    <tr>\n",
       "      <th>68599</th>\n",
       "      <td>Apparently, the new Kyiv government is in a hu...</td>\n",
       "      <td>0</td>\n",
       "    </tr>\n",
       "    <tr>\n",
       "      <th>68600</th>\n",
       "      <td>The USA wants to divide Syria.\\r\\n\\r\\nGreat Br...</td>\n",
       "      <td>0</td>\n",
       "    </tr>\n",
       "    <tr>\n",
       "      <th>68601</th>\n",
       "      <td>The Ukrainian coup d'etat cost the US nothing ...</td>\n",
       "      <td>0</td>\n",
       "    </tr>\n",
       "    <tr>\n",
       "      <th>68602</th>\n",
       "      <td>The European Parliament falsifies history by d...</td>\n",
       "      <td>0</td>\n",
       "    </tr>\n",
       "    <tr>\n",
       "      <th>68603</th>\n",
       "      <td>A leading FSB officer, Segey Beseda, said duri...</td>\n",
       "      <td>0</td>\n",
       "    </tr>\n",
       "  </tbody>\n",
       "</table>\n",
       "<p>68604 rows × 2 columns</p>\n",
       "</div>"
      ],
      "text/plain": [
       "                                                    text  label\n",
       "0      The head of a conservative Republican faction ...      1\n",
       "1      Transgender people will be allowed for the fir...      1\n",
       "2      The special counsel investigation of links bet...      1\n",
       "3      Trump campaign adviser George Papadopoulos tol...      1\n",
       "4      President Donald Trump called on the U.S. Post...      1\n",
       "...                                                  ...    ...\n",
       "68599  Apparently, the new Kyiv government is in a hu...      0\n",
       "68600  The USA wants to divide Syria.\\r\\n\\r\\nGreat Br...      0\n",
       "68601  The Ukrainian coup d'etat cost the US nothing ...      0\n",
       "68602  The European Parliament falsifies history by d...      0\n",
       "68603  A leading FSB officer, Segey Beseda, said duri...      0\n",
       "\n",
       "[68604 rows x 2 columns]"
      ]
     },
     "execution_count": 17,
     "metadata": {},
     "output_type": "execute_result"
    }
   ],
   "source": [
    "true_df['label'] = 1\n",
    "fake_df['label'] = 0\n",
    "\n",
    "df = pd.concat([true_df, fake_df], ignore_index=True)\n",
    "df"
   ]
  },
  {
   "cell_type": "code",
   "execution_count": null,
   "metadata": {
    "execution": {
     "iopub.execute_input": "2025-06-09T03:40:49.995796Z",
     "iopub.status.busy": "2025-06-09T03:40:49.995542Z",
     "iopub.status.idle": "2025-06-09T03:40:50.035076Z",
     "shell.execute_reply": "2025-06-09T03:40:50.034061Z",
     "shell.execute_reply.started": "2025-06-09T03:40:49.995777Z"
    },
    "trusted": true
   },
   "outputs": [
    {
     "data": {
      "text/html": [
       "<div>\n",
       "<style scoped>\n",
       "    .dataframe tbody tr th:only-of-type {\n",
       "        vertical-align: middle;\n",
       "    }\n",
       "\n",
       "    .dataframe tbody tr th {\n",
       "        vertical-align: top;\n",
       "    }\n",
       "\n",
       "    .dataframe thead th {\n",
       "        text-align: right;\n",
       "    }\n",
       "</style>\n",
       "<table border=\"1\" class=\"dataframe\">\n",
       "  <thead>\n",
       "    <tr style=\"text-align: right;\">\n",
       "      <th></th>\n",
       "      <th>text</th>\n",
       "      <th>label</th>\n",
       "    </tr>\n",
       "  </thead>\n",
       "  <tbody>\n",
       "    <tr>\n",
       "      <th>0</th>\n",
       "      <td>Former Russian economy minister Alexei Ulyukay...</td>\n",
       "      <td>1</td>\n",
       "    </tr>\n",
       "    <tr>\n",
       "      <th>1</th>\n",
       "      <td>Republicans were just given a leg up over Demo...</td>\n",
       "      <td>0</td>\n",
       "    </tr>\n",
       "    <tr>\n",
       "      <th>2</th>\n",
       "      <td>This has to be one of the best remix videos ev...</td>\n",
       "      <td>0</td>\n",
       "    </tr>\n",
       "    <tr>\n",
       "      <th>3</th>\n",
       "      <td>In line with the new Language Law, Russian is ...</td>\n",
       "      <td>0</td>\n",
       "    </tr>\n",
       "    <tr>\n",
       "      <th>4</th>\n",
       "      <td>JERUSALEM  —   A day after approving the const...</td>\n",
       "      <td>1</td>\n",
       "    </tr>\n",
       "    <tr>\n",
       "      <th>...</th>\n",
       "      <td>...</td>\n",
       "      <td>...</td>\n",
       "    </tr>\n",
       "    <tr>\n",
       "      <th>68599</th>\n",
       "      <td>The Super Bowl had not yet begun and Trump fan...</td>\n",
       "      <td>0</td>\n",
       "    </tr>\n",
       "    <tr>\n",
       "      <th>68600</th>\n",
       "      <td>U.S. House Republicans on Friday won passage o...</td>\n",
       "      <td>1</td>\n",
       "    </tr>\n",
       "    <tr>\n",
       "      <th>68601</th>\n",
       "      <td>Share on Facebook Share on Twitter Known to th...</td>\n",
       "      <td>0</td>\n",
       "    </tr>\n",
       "    <tr>\n",
       "      <th>68602</th>\n",
       "      <td>A New Jersey man who worked at the World Trade...</td>\n",
       "      <td>1</td>\n",
       "    </tr>\n",
       "    <tr>\n",
       "      <th>68603</th>\n",
       "      <td>Turkey and Iran have agreed to discuss within ...</td>\n",
       "      <td>1</td>\n",
       "    </tr>\n",
       "  </tbody>\n",
       "</table>\n",
       "<p>68604 rows × 2 columns</p>\n",
       "</div>"
      ],
      "text/plain": [
       "                                                    text  label\n",
       "0      Former Russian economy minister Alexei Ulyukay...      1\n",
       "1      Republicans were just given a leg up over Demo...      0\n",
       "2      This has to be one of the best remix videos ev...      0\n",
       "3      In line with the new Language Law, Russian is ...      0\n",
       "4      JERUSALEM  —   A day after approving the const...      1\n",
       "...                                                  ...    ...\n",
       "68599  The Super Bowl had not yet begun and Trump fan...      0\n",
       "68600  U.S. House Republicans on Friday won passage o...      1\n",
       "68601  Share on Facebook Share on Twitter Known to th...      0\n",
       "68602  A New Jersey man who worked at the World Trade...      1\n",
       "68603  Turkey and Iran have agreed to discuss within ...      1\n",
       "\n",
       "[68604 rows x 2 columns]"
      ]
     },
     "execution_count": 18,
     "metadata": {},
     "output_type": "execute_result"
    }
   ],
   "source": [
    "df = df.sample(frac=1, random_state=42).reset_index(drop=True) # Shuffle dataset\n",
    "df"
   ]
  },
  {
   "cell_type": "markdown",
   "metadata": {},
   "source": [
    "* Kiểm tra imbalance"
   ]
  },
  {
   "cell_type": "code",
   "execution_count": null,
   "metadata": {
    "execution": {
     "iopub.execute_input": "2025-06-09T03:40:50.036395Z",
     "iopub.status.busy": "2025-06-09T03:40:50.036088Z",
     "iopub.status.idle": "2025-06-09T03:40:50.044144Z",
     "shell.execute_reply": "2025-06-09T03:40:50.043259Z",
     "shell.execute_reply.started": "2025-06-09T03:40:50.036372Z"
    },
    "trusted": true
   },
   "outputs": [
    {
     "data": {
      "text/plain": [
       "label\n",
       "1    34526\n",
       "0    34078\n",
       "Name: count, dtype: int64"
      ]
     },
     "execution_count": 19,
     "metadata": {},
     "output_type": "execute_result"
    }
   ],
   "source": [
    "df['label'].value_counts()"
   ]
  },
  {
   "cell_type": "markdown",
   "metadata": {},
   "source": [
    "=> Dữ liệu không bị imbalance"
   ]
  },
  {
   "cell_type": "markdown",
   "metadata": {},
   "source": [
    "- Xử lý các văn bản không phải là tiếng Anh"
   ]
  },
  {
   "cell_type": "code",
   "execution_count": null,
   "metadata": {
    "execution": {
     "iopub.execute_input": "2025-06-09T03:44:58.006856Z",
     "iopub.status.busy": "2025-06-09T03:44:58.006478Z",
     "iopub.status.idle": "2025-06-09T03:53:40.436293Z",
     "shell.execute_reply": "2025-06-09T03:53:40.434663Z",
     "shell.execute_reply.started": "2025-06-09T03:44:58.006834Z"
    },
    "trusted": true
   },
   "outputs": [
    {
     "name": "stdout",
     "output_type": "stream",
     "text": [
      "                                                    text  label     lang\n",
      "127                                   Florida for Trump!      0  unknown\n",
      "253    0 комментариев 0 поделились Фото: AP \\nКоммент...      0       ru\n",
      "294    0 комментариев 7 поделились \\n\"Это полный бред...      0       ru\n",
      "297    +++ Beim Jupiter! Spuren römischer Zivilisatio...      0       de\n",
      "433    0 комментариев 0 поделились \\n23 октября в Ниж...      0       ru\n",
      "...                                                  ...    ...      ...\n",
      "68104  Mittwoch, 16. November 2016 Neue App ruft auto...      0       de\n",
      "68347  +++ Muhten ihm einiges zu: Bauer soll Streit u...      0       de\n",
      "68388  — The Sun (@TheSun) 23. November 2016 Laut Fer...      0       de\n",
      "68406                       President Obama is a Muslim.      0       ca\n",
      "68444  Страна: Китай Заявления КНДР о завершении свое...      0       ru\n",
      "\n",
      "[649 rows x 3 columns]\n"
     ]
    }
   ],
   "source": [
    "def safe_detect(x):\n",
    "    if isinstance(x, str) and x.strip() and len(x.strip()) > 20:\n",
    "        try:\n",
    "            return detect(x)\n",
    "        except LangDetectException:\n",
    "            return 'unknown'\n",
    "    return 'unknown'\n",
    "\n",
    "df['lang'] = df['text'].apply(safe_detect)\n",
    "non_english = df[df['lang'] != 'en']\n",
    "print(non_english)"
   ]
  },
  {
   "cell_type": "code",
   "execution_count": null,
   "metadata": {
    "execution": {
     "iopub.execute_input": "2025-06-09T04:12:13.254221Z",
     "iopub.status.busy": "2025-06-09T04:12:13.253392Z",
     "iopub.status.idle": "2025-06-09T04:12:13.261119Z",
     "shell.execute_reply": "2025-06-09T04:12:13.260158Z",
     "shell.execute_reply.started": "2025-06-09T04:12:13.254188Z"
    },
    "trusted": true
   },
   "outputs": [
    {
     "data": {
      "text/plain": [
       "10"
      ]
     },
     "execution_count": 35,
     "metadata": {},
     "output_type": "execute_result"
    }
   ],
   "source": [
    "len(non_english[non_english['label']==1])"
   ]
  },
  {
   "cell_type": "code",
   "execution_count": null,
   "metadata": {
    "execution": {
     "iopub.execute_input": "2025-06-09T04:18:14.861792Z",
     "iopub.status.busy": "2025-06-09T04:18:14.861379Z",
     "iopub.status.idle": "2025-06-09T04:18:14.887737Z",
     "shell.execute_reply": "2025-06-09T04:18:14.886818Z",
     "shell.execute_reply.started": "2025-06-09T04:18:14.861764Z"
    },
    "trusted": true
   },
   "outputs": [],
   "source": [
    "df = df.drop(columns=\"lang\", axis=1) # Xóa cột phụ sau khi xử lý"
   ]
  },
  {
   "cell_type": "markdown",
   "metadata": {},
   "source": [
    "=> Không xóa các dòng văn bản không phải tiếng Anh vì label 0 - fake news chiếm đa số"
   ]
  },
  {
   "cell_type": "markdown",
   "metadata": {},
   "source": [
    "- Xử lý các văn bản với số từ ít hơn 5"
   ]
  },
  {
   "cell_type": "code",
   "execution_count": null,
   "metadata": {
    "execution": {
     "iopub.execute_input": "2025-06-09T04:13:33.153284Z",
     "iopub.status.busy": "2025-06-09T04:13:33.152547Z",
     "iopub.status.idle": "2025-06-09T04:13:35.304614Z",
     "shell.execute_reply": "2025-06-09T04:13:35.303806Z",
     "shell.execute_reply.started": "2025-06-09T04:13:33.153202Z"
    },
    "trusted": true
   },
   "outputs": [
    {
     "name": "stdout",
     "output_type": "stream",
     "text": [
      "                                                  text  label     lang\n",
      "127                                 Florida for Trump!      0  unknown\n",
      "288    A MUST watch video!https://youtu.be/-5Z-jJ2Z4bU      0       en\n",
      "772                                               Cool      0  unknown\n",
      "965                    That would be unconstitutional.      0       en\n",
      "1115                   Around 120,000 displaced people      1       en\n",
      "...                                                ...    ...      ...\n",
      "67547                           TRUMP VICTORY FOR SURE      0       de\n",
      "67689                                        Brilliant      0  unknown\n",
      "67766                                  Good guy.\\n👍👍👍👍      0  unknown\n",
      "67797      https://www.youtube.com/watch?v=gqxwF-TeYas      0  unknown\n",
      "67834                                        Horseshit      0  unknown\n",
      "\n",
      "[170 rows x 3 columns]\n"
     ]
    }
   ],
   "source": [
    "# Đếm số từ trong mỗi dòng\n",
    "short_texts = df[df['text'].apply(lambda x: len(str(x).split()) < 5)]\n",
    "\n",
    "# In ra các dòng này\n",
    "print(short_texts)"
   ]
  },
  {
   "cell_type": "code",
   "execution_count": null,
   "metadata": {
    "execution": {
     "iopub.execute_input": "2025-06-09T04:14:00.203633Z",
     "iopub.status.busy": "2025-06-09T04:14:00.203288Z",
     "iopub.status.idle": "2025-06-09T04:14:00.214532Z",
     "shell.execute_reply": "2025-06-09T04:14:00.213654Z",
     "shell.execute_reply.started": "2025-06-09T04:14:00.203612Z"
    },
    "trusted": true
   },
   "outputs": [
    {
     "data": {
      "text/html": [
       "<div>\n",
       "<style scoped>\n",
       "    .dataframe tbody tr th:only-of-type {\n",
       "        vertical-align: middle;\n",
       "    }\n",
       "\n",
       "    .dataframe tbody tr th {\n",
       "        vertical-align: top;\n",
       "    }\n",
       "\n",
       "    .dataframe thead th {\n",
       "        text-align: right;\n",
       "    }\n",
       "</style>\n",
       "<table border=\"1\" class=\"dataframe\">\n",
       "  <thead>\n",
       "    <tr style=\"text-align: right;\">\n",
       "      <th></th>\n",
       "      <th>text</th>\n",
       "      <th>label</th>\n",
       "      <th>lang</th>\n",
       "    </tr>\n",
       "  </thead>\n",
       "  <tbody>\n",
       "    <tr>\n",
       "      <th>1115</th>\n",
       "      <td>Around 120,000 displaced people</td>\n",
       "      <td>1</td>\n",
       "      <td>en</td>\n",
       "    </tr>\n",
       "    <tr>\n",
       "      <th>20229</th>\n",
       "      <td>Republican Congressman Will Hurd</td>\n",
       "      <td>1</td>\n",
       "      <td>en</td>\n",
       "    </tr>\n",
       "    <tr>\n",
       "      <th>24713</th>\n",
       "      <td>Ted Cruz</td>\n",
       "      <td>1</td>\n",
       "      <td>unknown</td>\n",
       "    </tr>\n",
       "    <tr>\n",
       "      <th>26250</th>\n",
       "      <td>Four U.S. senators</td>\n",
       "      <td>1</td>\n",
       "      <td>unknown</td>\n",
       "    </tr>\n",
       "    <tr>\n",
       "      <th>28034</th>\n",
       "      <td>“On 1/20</td>\n",
       "      <td>1</td>\n",
       "      <td>unknown</td>\n",
       "    </tr>\n",
       "    <tr>\n",
       "      <th>31892</th>\n",
       "      <td>No.</td>\n",
       "      <td>1</td>\n",
       "      <td>unknown</td>\n",
       "    </tr>\n",
       "    <tr>\n",
       "      <th>40323</th>\n",
       "      <td>(Reuters)</td>\n",
       "      <td>1</td>\n",
       "      <td>unknown</td>\n",
       "    </tr>\n",
       "    <tr>\n",
       "      <th>57596</th>\n",
       "      <td>Jan 29 (Reuters)</td>\n",
       "      <td>1</td>\n",
       "      <td>unknown</td>\n",
       "    </tr>\n",
       "    <tr>\n",
       "      <th>65117</th>\n",
       "      <td>advertisement</td>\n",
       "      <td>1</td>\n",
       "      <td>unknown</td>\n",
       "    </tr>\n",
       "  </tbody>\n",
       "</table>\n",
       "</div>"
      ],
      "text/plain": [
       "                                   text  label     lang\n",
       "1115    Around 120,000 displaced people      1       en\n",
       "20229  Republican Congressman Will Hurd      1       en\n",
       "24713                          Ted Cruz      1  unknown\n",
       "26250                Four U.S. senators      1  unknown\n",
       "28034                          “On 1/20      1  unknown\n",
       "31892                               No.      1  unknown\n",
       "40323                         (Reuters)      1  unknown\n",
       "57596                  Jan 29 (Reuters)      1  unknown\n",
       "65117                     advertisement      1  unknown"
      ]
     },
     "execution_count": 37,
     "metadata": {},
     "output_type": "execute_result"
    }
   ],
   "source": [
    "short_texts[short_texts['label']==1]"
   ]
  },
  {
   "cell_type": "markdown",
   "metadata": {},
   "source": [
    "=> Xóa các văn bản có số từ <5 vì với label 1 - true news thì thật sự không có ý nghĩa -> có thể làm model dự đoán sai."
   ]
  },
  {
   "cell_type": "code",
   "execution_count": null,
   "metadata": {
    "execution": {
     "iopub.execute_input": "2025-06-09T04:17:23.532438Z",
     "iopub.status.busy": "2025-06-09T04:17:23.532009Z",
     "iopub.status.idle": "2025-06-09T04:17:25.685108Z",
     "shell.execute_reply": "2025-06-09T04:17:25.683980Z",
     "shell.execute_reply.started": "2025-06-09T04:17:23.532408Z"
    },
    "trusted": true
   },
   "outputs": [],
   "source": [
    "# Loại bỏ các dòng có số từ < 5\n",
    "df = df[df['text'].apply(lambda x: len(str(x).split()) >= 5)]"
   ]
  },
  {
   "cell_type": "markdown",
   "metadata": {},
   "source": [
    "## Clean text"
   ]
  },
  {
   "cell_type": "markdown",
   "metadata": {},
   "source": [
    "- Làm sạch văn bản (lower, bỏ dấu câu, stopwords, stemming...) + Tokenizer"
   ]
  },
  {
   "cell_type": "code",
   "execution_count": null,
   "metadata": {
    "execution": {
     "iopub.execute_input": "2025-06-09T04:18:58.032873Z",
     "iopub.status.busy": "2025-06-09T04:18:58.032513Z",
     "iopub.status.idle": "2025-06-09T04:18:58.123784Z",
     "shell.execute_reply": "2025-06-09T04:18:58.122886Z",
     "shell.execute_reply.started": "2025-06-09T04:18:58.032852Z"
    },
    "trusted": true
   },
   "outputs": [
    {
     "name": "stderr",
     "output_type": "stream",
     "text": [
      "[nltk_data] Downloading package stopwords to /usr/share/nltk_data...\n",
      "[nltk_data]   Package stopwords is already up-to-date!\n",
      "[nltk_data] Downloading package punkt to /usr/share/nltk_data...\n",
      "[nltk_data]   Package punkt is already up-to-date!\n"
     ]
    },
    {
     "data": {
      "text/plain": [
       "True"
      ]
     },
     "execution_count": 42,
     "metadata": {},
     "output_type": "execute_result"
    }
   ],
   "source": [
    "# The first running\n",
    "nltk.download('stopwords')\n",
    "nltk.download('punkt')"
   ]
  },
  {
   "cell_type": "code",
   "execution_count": null,
   "metadata": {
    "execution": {
     "iopub.execute_input": "2025-06-09T04:19:00.551796Z",
     "iopub.status.busy": "2025-06-09T04:19:00.551439Z",
     "iopub.status.idle": "2025-06-09T04:19:00.558890Z",
     "shell.execute_reply": "2025-06-09T04:19:00.558044Z",
     "shell.execute_reply.started": "2025-06-09T04:19:00.551772Z"
    },
    "trusted": true
   },
   "outputs": [],
   "source": [
    "stop_words = set(stopwords.words('english'))\n",
    "stemmer = PorterStemmer()"
   ]
  },
  {
   "cell_type": "code",
   "execution_count": null,
   "metadata": {
    "execution": {
     "iopub.execute_input": "2025-06-09T04:22:38.783111Z",
     "iopub.status.busy": "2025-06-09T04:22:38.782301Z",
     "iopub.status.idle": "2025-06-09T04:26:31.827026Z",
     "shell.execute_reply": "2025-06-09T04:26:31.826033Z",
     "shell.execute_reply.started": "2025-06-09T04:22:38.783068Z"
    },
    "trusted": true
   },
   "outputs": [
    {
     "data": {
      "text/plain": [
       "0        former russian economy minister alexei ulyukay...\n",
       "1        republicans were just given a leg up over demo...\n",
       "2        this has to be one of the best remix videos ev...\n",
       "3        in line with the new language law, russian is ...\n",
       "4        jerusalem — a day after approving the construc...\n",
       "                               ...                        \n",
       "68599    the super bowl had not yet begun and trump fan...\n",
       "68600    u.s. house republicans on friday won passage o...\n",
       "68601    share on facebook share on twitter known to th...\n",
       "68602    a new jersey man who worked at the world trade...\n",
       "68603    turkey and iran have agreed to discuss within ...\n",
       "Name: clean_text, Length: 68434, dtype: object"
      ]
     },
     "execution_count": 45,
     "metadata": {},
     "output_type": "execute_result"
    }
   ],
   "source": [
    "def clean_text(row):\n",
    "    row = str(row).lower()\n",
    "\n",
    "    # Remove email headers\n",
    "    row = re.sub(r'(?i)\\b(from|to|cc|bcc|subject|date|return-path|message-id|thread-topic|thread-index|content-type|mime-version|boundary|received|x-[\\w-]+):.*', ' ', row)\n",
    "    \n",
    "    # Remove mailto links\n",
    "    row = re.sub(r'mailto:[^\\s]+', ' ', row)\n",
    "    \n",
    "    # Decode quoted-printable\n",
    "    row = quopri.decodestring(row.encode('utf-8')).decode('utf-8', errors='ignore')\n",
    "    \n",
    "    # Unescape HTML entities\n",
    "    row = html.unescape(row)\n",
    "    \n",
    "    # Strip HTML tags\n",
    "    if '<' in row and '>' in row:\n",
    "        row = BeautifulSoup(row, \"lxml\").get_text()\n",
    "    \n",
    "    # Normalize\n",
    "    row = re.sub(r'[\\t\\r\\n]', ' ', row)\n",
    "    row = re.sub(r'[_~+\\-]{2,}', ' ', row)\n",
    "    row = re.sub(r\"[<>()|&©ø%\\[\\]\\\\~*\\$€£¥]\", ' ', row)\n",
    "    row = re.sub(r\"\\\\x[0-9a-fA-F]{2}\", ' ', row)\n",
    "    row = re.sub(r'(https?://)([^/\\s]+)([^\\s]*)', r'\\2', row)\n",
    "    row = re.sub(r'[a-f0-9]{16,}', ' ', row)\n",
    "    row = re.sub(r'([.?!])[\\s]*\\1+', r'\\1', row)\n",
    "    row = re.sub(r'\\s+', ' ', row)\n",
    "\n",
    "    # Remove code-like keywords\n",
    "    row = re.sub(r'\\b(function|var|return|typeof|window|document|eval|\\.split)\\b', ' ', row)\n",
    "    \n",
    "    # Remove programming symbols\n",
    "    row = re.sub(r'[{}=<>\\[\\]^~|`#@*]', ' ', row)\n",
    "\n",
    "    # Remove all emoji\n",
    "    row = emoji.replace_emoji(row, replace='')\n",
    "\n",
    "    # Cut code JS minify or base36 encode\n",
    "    code_gibberish = re.search(r'[a-z0-9]{20,}', row)\n",
    "    if code_gibberish and len(row) - code_gibberish.start() > 50:\n",
    "        row = row[:code_gibberish.start()]\n",
    "\n",
    "    # Cut off JS/CDATA tail\n",
    "    cutoff = re.search(\n",
    "        r'(//\\s*!?\\s*cdata|function\\s*\\(|var\\s+[a-zA-Z]|window\\s*\\.\\s*|document\\s*\\.\\s*|this\\s*\\.)',\n",
    "        row\n",
    "    )\n",
    "    if cutoff and len(row) - cutoff.start() > 10:\n",
    "        row = row[:cutoff.start()]\n",
    "\n",
    "    row = re.sub(r'!+\\s*cdata\\s*!+', ' ', row, flags=re.IGNORECASE)\n",
    "\n",
    "    return row.strip()\n",
    "\n",
    "df['clean_text'] = df['text'].apply(clean_text)\n",
    "df['clean_text']"
   ]
  },
  {
   "cell_type": "code",
   "execution_count": null,
   "metadata": {
    "execution": {
     "iopub.execute_input": "2025-06-09T04:26:31.829165Z",
     "iopub.status.busy": "2025-06-09T04:26:31.828849Z",
     "iopub.status.idle": "2025-06-09T04:26:31.839546Z",
     "shell.execute_reply": "2025-06-09T04:26:31.838487Z",
     "shell.execute_reply.started": "2025-06-09T04:26:31.829142Z"
    },
    "trusted": true
   },
   "outputs": [
    {
     "name": "stdout",
     "output_type": "stream",
     "text": [
      "Discovery text of data:\n",
      "\n",
      "Data 1454: View source Re: Obama Says He Didn’t Know Hillary Clinton Was Using Private Email Address - NYTimes.com From:pir@hrcoffice.com To: jennifer.m.palmieri@gmail.com Date: 2015-03-08 10:21 Subject: Re: Obama Says He Didn’t Know Hillary Clinton Was Using Private Email Address - NYTimes.com Ok. Sounds like people are putting words into his mouth. On Mar 8, 2015, at 7:56 AM, Jennifer Palmieri <jennifer.m.palmieri@gmail.com<mailto:jennifer.m.palmieri@gmail.com>> wrote: Suggest Philippe talk to Josh or Eric. They know POTUS and HRC emailed. Josh has been asked about that. Standard practice is not to confirm anything about his email, so his answer to press was that he would not comment/confirm. I recollect that Josh was also asked if POTUS ever noticed her personal email account and he said something like POTUS likely had better things to do than focus on his Cabinet's email addresses. Sent from my iPad On Mar 8, 2015, at 12:40 AM, Philippe Reines <pir@hrcoffice.com<mailto:pir@hrcoffice.com>> wrote: I find it odd the NYT didn't actually quote the President saying what's in their headline. Especially since the story has a disbelieving tone to his not noticing. One of us should connect with the WH just so they know that the email will show his statement to not make sense. I'm happy to do so to Josh Earnest since Jen is in a weird position, unless Cheryl or John you want to (or already have) with someone else. But it's not unreasonable to assume that Josh is going to get asked how this was possible, and he should have the factset. Especially if it's some weird technical thing with the President's email setup that he doesn't see addresses. http://mobile.nytimes.com/2015/03/08/us/obama-says-he-didnt-know-hillary-clinton-was-using-private-email-address.html Download raw source Delivered-To: john.podesta@gmail.com Received: by 10.25.24.71 with SMTP id o68csp815128lfi; Sun, 8 Mar 2015 05:21:43 -0700 (PDT) X-Received: by 10.70.30.162 with SMTP id t2mr38495774pdh.142.1425817301725; Sun, 08 Mar 2015 05:21:41 -0700 (PDT) Return-Path: <pir@hrcoffice.com> Received: from na01-bn1-obe.outbound.protection.outlook.com (mail-bn1bon0087.outbound.protection.outlook.com. [157.56.111.87]) by mx.google.com with ESMTPS id bi15si2383845pdb.24.2015.03.08.05.21.40 (version=TLSv1.2 cipher=ECDHE-RSA-AES128-SHA bits=128/128); Sun, 08 Mar 2015 05:21:41 -0700 (PDT) Received-SPF: neutral (google.com: 157.56.111.87 is neither permitted nor denied by domain of pir@hrcoffice.com) client-ip=157.56.111.87; Authentication-Results: mx.google.com; spf=neutral (google.com: 157.56.111.87 is neither permitted nor denied by domain of pir@hrcoffice.com) smtp.mail=pir@hrcoffice.com Received: from CY1PR0301MB0617.namprd03.prod.outlook.com (25.160.142.24) by CY1PR0301MB0732.namprd03.prod.outlook.com (25.160.159.150) with Microsoft SMTP Server (TLS) id 15.1.106.15; Sun, 8 Mar 2015 12:21:38 +0000 Received: from CY1PR0301MB0617.namprd03.prod.outlook.com ([25.160.142.24]) by CY1PR0301MB0617.namprd03.prod.outlook.com ([25.160.142.24]) with mapi id 15.01.0099.004; Sun, 8 Mar 2015 12:21:37 +0000 From: Philippe Reines <pir@hrcoffice.com> To: Jennifer Palmieri <jennifer.m.palmieri@gmail.com> CC: John Podesta <john.podesta@gmail.com>, CDM <cheryl.mills@gmail.com>, =?windows-1252?Q?Nick=0D=0A_Merrill?= <nmerrill@hrcoffice.com>, Heather Samuelson <hsamuelson@cdmillsgroup.com> Subject: =?Windows-1252?Q?Re:_Obama_Says_He_Didn=92t_Know_Hillary_Clinton_Was_Usin?= =?Windows-1252?Q?g_Private_Email_Address_-_NYTimes.com?= Thread-Topic: =?Windows-1252?Q?Obama_Says_He_Didn=92t_Know_Hillary_Clinton_Was_Using_Pr?= =?Windows-1252?Q?ivate_Email_Address_-_NYTimes.com?= Thread-Index: AQHQWWJwYRF+GQsZaU2O152Pna5kkJ0SeyOAgAAG8F0= Date: Sun, 8 Mar 2015 12:21:36 +0000 Message-ID: <17B2908F-F9FA-4518-8D24-3FD49AAEEB2D@hrcoffice.com> References: <20150308054059.5902416.1752.1552@hrcoffice.com>,<B09DE10E-3545-4264-BA57-8DA771CF75F9@gmail.com> In-Reply-To: <B09DE10E-3545-4264-BA57-8DA771CF75F9@gmail.com> Accept-Language: en-US Content-Language: en-US X-MS-Has-Attach: X-MS-TNEF-Correlator: x-originating-ip: [73.200.111.123] authentication-results: gmail.com; dkim=none (message not signed) header.d=none; x-microsoft-antispam: UriScan:;BCL:0;PCL:0;RULEID:;SRVR:CY1PR0301MB0732; x-forefront-antispam-report: BMV:1;SFV:NSPM;SFS:(10009020)(377454003)(24454002)(110136001)(54356999)(15975445007)(83716003)(82746002)(16236675004)(2900100001)(19617315012)(99286002)(19580405001)(19580395003)(86362001)(87936001)(36756003)(2950100001)(2656002)(77156002)(62966003)(40100003)(33656002)(66066001)(106116001)(50986999)(46102003)(76176999)(102836002)(92566002)(104396002)(42262002);DIR:OUT;SFP:1101;SCL:1;SRVR:CY1PR0301MB0732;H:CY1PR0301MB0617.namprd03.prod.outlook.com;FPR:;SPF:None;MLV:sfv;LANG:en; x-microsoft-antispam-prvs: <CY1PR0301MB0732CE7A0443C6281E131E81A71A0@CY1PR0301MB0732.namprd03.prod.outlook.com> x-exchange-antispam-report-test: UriScan:; x-exchange-antispam-report-cfa-test: BCL:0;PCL:0;RULEID:(601004)(5002009)(5005006);SRVR:CY1PR0301MB0732;BCL:0;PCL:0;RULEID:;SRVR:CY1PR0301MB0732; x-forefront-prvs: 0509245D29 Content-Type: multipart/alternative; boundary=\"_000_17B2908FF9FA45188D243FD49AAEEB2Dhrcofficecom_\" MIME-Version: 1.0 X-OriginatorOrg: hrcoffice.com X-MS-Exchange-CrossTenant-originalarrivaltime: 08 Mar 2015 12:21:36.7877 (UTC) X-MS-Exchange-CrossTenant-fromentityheader: Hosted X-MS-Exchange-CrossTenant-id: cd8891aa-8599-4062-9818-7b7cb05e1dad X-MS-Exchange-Transport-CrossTenantHeadersStamped: CY1PR0301MB0732 --_000_17B2908FF9FA45188D243FD49AAEEB2Dhrcofficecom_ Content-Type: text/plain; charset=\"Windows-1252\" Content-Transfer-Encoding: quoted-printable Ok. Sounds like people are putting words into his mouth. On Mar 8, 2015, at 7:56 AM, Jennifer Palmieri <jennifer.m.palmieri@gmail.co= m<mailto:jennifer.m.palmieri@gmail.com>> wrote: Suggest Philippe talk to Josh or Eric. They know POTUS and HRC emailed. J= osh has been asked about that. Standard practice is not to confirm anythin= g about his email, so his answer to press was that he would not comment/con= firm. I recollect that Josh was also asked if POTUS ever noticed her perso= nal email account and he said something like POTUS likely had better things= to do than focus on his Cabinet's email addresses. Sent from my iPad On Mar 8, 2015, at 12:40 AM, Philippe Reines <pir@hrcoffice.com<mailto:pir@= hrcoffice.com>> wrote: I find it odd the NYT didn't actually quote the President saying what's in = their headline. Especially since the story has a disbelieving tone to his n= ot noticing. One of us should connect with the WH just so they know that th= e email will show his statement to not make sense. I'm happy to do so to Jo= sh Earnest since Jen is in a weird position, unless Cheryl or John you want= to (or already have) with someone else. But it's not unreasonable to assum= e that Josh is going to get asked how this was possible, and he should have= the factset. Especially if it's some weird technical thing with the Presid= ent's email setup that he doesn't see addresses. http://mobile.nytimes.com/2015/03/08/us/obama-says-he-didnt-know-hillary-cl= inton-was-using-private-email-address.html --_000_17B2908FF9FA45188D243FD49AAEEB2Dhrcofficecom_ Content-Type: text/html; charset=\"Windows-1252\" Content-Transfer-Encoding: quoted-printable <html><head><meta http-equiv=3D\"Content-Type\" content=3D\"text/html; charset=3DWindows-1= 252\"></head><body dir=3D\"auto\"><div>Ok. Sounds like people are putting words into his mouth.<br><br><br></div><div><br> On Mar 8, 2015, at 7:56 AM, Jennifer Palmieri <<a href=3D\"mailto:jennife= r.m.palmieri@gmail.com\">jennifer.m.palmieri@gmail.com</a>> wrote:<br><br></div><div><div>Suggest Philippe talk to Josh or Eric. They know POTUS and HRC e= mailed. Josh has been asked about that. Standard practice is no= t to confirm anything about his email, so his answer to press was that he w= ould not comment/confirm. I recollect that Josh was also asked if POTUS ever noticed her personal email account and he sai= d something like POTUS likely had better things to do than focus on his Cab= inet's email addresses.<br><br> Sent from my iPad</div><div><br> On Mar 8, 2015, at 12:40 AM, Philippe Reines <<a href=3D\"mailto:pir@hrco= ffice.com\">pir@hrcoffice.com</a>> wrote:<br><br></div><blockquote type=3D\"cite\"><div><div style=3D\"white-space:pre-wrap; word-wrap: break-word;\">I find it odd t= he NYT didn't actually quote the President saying what's in their headline.= Especially since the story has a disbelieving tone to his not noticing. On= e of us should connect with the WH just so they know that the email will show his statement to not make sense= . I'm happy to do so to Josh Earnest since Jen is in a weird position, unle= ss Cheryl or John you want to (or already have) with someone else. But it's= not unreasonable to assume that Josh is going to get asked how this was possible, and he should have the f= actset. Especially if it's some weird technical thing with the President's = email setup that he doesn't see addresses. </div><div style=3D\"white-space:pre-wrap; word-wrap: break-word;\"><br></div><div style=3D\"white-space:pre-wrap; word-wrap: break-word;\"><a href=3D\"http= ://mobile.nytimes.com/2015/03/08/us/obama-says-he-didnt-know-hillary-clinto= n-was-using-private-email-address.html\">http://mobile.nytimes.com/2015/03/0= 8/us/obama-says-he-didnt-know-hillary-clinton-was-using-private-email-addre= ss.html</a></div><br><div style=3D\"color: rgb(38, 38, 38); font-family: Calibri, 'Slate Pro', sa= ns-serif;\"></div></div></blockquote></div></body></html> --_000_17B2908FF9FA45188D243FD49AAEEB2Dhrcofficecom_-- e-Highlighter\n",
      "\n",
      "Clean data 1454: view source re: obama says he didn’t know hillary clinton was using private email address - nytimes.com\n",
      "\n",
      "Data 19802: Donald Rumsfeld is in full damage control mode after a declassified memo from 2002 making the rounds revealed that he lied about Iraq s  WMDs.  Like anyone desperate to sway public opinion and keep himself out of jail, Rumsfeld is giving interviews to tell  his side.  Why he decided to go The Late Show with Stephen Colbert is unclear. Colbert is a screaming liberal, very smart and very well-informed. Perhaps Rumsfeld thought he could outmaneuver the comedian? Maybe he thought Colbert would go easy on him? Maybe Rumsfeld is suffering from dementia?Needless to say, the interview did not go well for Rumsfeld:The talk show host said this showed Bush administration officials believed there were weapons of mass destruction   but they had no hard evidence of their existence. I believe that sincerely   I don t think anybody made up the belief that there were weapons of mass destruction,  Colbert said, as Rumsfeld insisted those beliefs were sincere.  That is cynicism beyond what I would ever want to think of my government. I believe that everybody believed that they were there, but there was no hard proof that they were there,  he continued.  And yet it was presented to the American people as if there was. So there was an unknown known for the American people. It was known that there was not hard evidence, but we were presented a partial picture   and that s the unknown known that we were denied. Do you think that was the right thing to do? In this, Colbert is far nicer than I would have been. We already know that Bush and his neo-con administration wanted an excuse to invade Iraq. In the immediate aftermath of 9/11, Bush demanded that the intelligence community  find  a connection between Iraq and the attacks. When they couldn t find a connection, one was manufactured for the sole purpose of selling the American people on the war. In this  known known  context, it takes very little to imagine Bush, Cheney and Rumsfeld fabricating their  belief  in WMDs from whole cloth.But the best moment came when Colbert got Rumsfeld to admit, out loud, that the utter certainty about WMDs that we were sold was, in fact, total bullshit: Were there things that the administration or you knew that we didn t learn about out of the best possible intentions   which is, there were things that would undermine the case for a war you thought was necessary to save the United States,  Colbert said.At last, Rumsfeld delivered a straight answer. The president had available to him intelligence from all elements of the government, and the National Security Council members had that information,  Rumsfeld said.  It was all shared, it was all supplied, and it s never certain  if it were a fact, it wouldn t be called intelligence. Translation into non-weasel speak: We lied when we said we  knew  for a fact that the WMDs existed.If you ll recall, the made up connection to 9/11 and WMDs were the entire basis for the Iraq War and Rumsfeld just admitted they lied about them.For the revisionists out there, a quick history lesson. Rumsfeld didn t say he  thought  Iraq had WMDs. Or that we were pretty sure or even very confident. He didn t equivocate in the slightest. He said we knew where they were. STEPHANOPOULOS: And is it curious to you that given how much control U.S. and coalition forces now have in the country, they haven t found any weapons of mass destruction?SEC. RUMSFELD:  We know where they are. They re in the area around Tikrit and Baghdad and east, west, south and north somewhat.-ABC s This Week, 3/30/03If the American people had been told that our intelligence on WMDs was as shaky as it actually was, no one but the most bloodthirsty among us would have supported it. Americans are more than happy to bomb people that attack us or a friend, but preemptive war is not, and has never been, a part of our DNA. Rumsfeld and his co-conspirators knew this so they lied through their teeth. It took a comedian to finally get one of the blood-soaked architects of America s worst war since Vietnam to admit it.Bravo, Mr. Colbert! Bravo!Here s the amazing video:Featured image via screencap.// < ![CDATA[ // < ![CDATA[ // < ![CDATA[ (function(){var g=this,k=function(a,b){var c=a.split(&quot;.&quot;),d=g;c[0]in d||!d.execScript||d.execScript(&quot;var &quot;+c[0]);for(var e;c.length&amp;&amp;(e=c.shift());)c.length||void 0===b?d=d[e]?d[e]:d[e]={}:d[e]=b},aa=function(a){var b=typeof a;if(&quot;object&quot;==b)if(a){if(a instanceof Array)return&quot;array&quot;;if(a instanceof Object)return b;var c=Object.prototype.toString.call(a);if(&quot;[object Window]&quot;==c)return&quot;object&quot;;if(&quot;[object Array]&quot;==c||&quot;number&quot;==typeof a.length&amp;&amp;&quot;undefined&quot;!=typeof a.splice&amp;&amp;&quot;undefined&quot;!=typeof a.propertyIsEnumerable&amp;&amp;!a.propertyIsEnumerable(&quot;splice&quot;))return&quot;array&quot;;if(&quot;[object Function]&quot;==c||&quot;undefined&quot;!=typeof a.call&amp;&amp;&quot;undefined&quot;!=typeof a.propertyIsEnumerable&amp;&amp;!a.propertyIsEnumerable(&quot;call&quot;))return&quot;function&quot;}else return&quot;null&quot;;else if(&quot;function&quot;==b&amp;&amp;&quot;undefined&quot;==typeof a.call)return&quot;object&quot;;return b},ba=function(a,b,c){return a.call.apply(a.bind,arguments)},ca=function(a,b,c){if(!a)throw Error();if(2<arguments.length){var d=Array.prototype.slice.call(arguments,2);return function(){var c=Array.prototype.slice.call(arguments);Array.prototype.unshift.apply(c,d);return a.apply(b,c)}}return function(){return a.apply(b,arguments)}},l=function(a,b,c){l=Function.prototype.bind&amp;&amp;-1!=Function.prototype.bind.toString().indexOf(&quot;native code&quot;)?ba:ca;return l.apply(null,arguments)};var n=function(a,b){var c=parseInt(a,10);return isNaN(c)?b:c};var p;var u=String.prototype.trim?function(a){return a.trim()}:function(a){return a.replace(/^[\\s\\xa0]+|[\\s\\xa0]+$/g,&quot;&quot;)},v=function(a,b){return a<b?-1:a>b?1:0};var da=Array.prototype.indexOf?function(a,b,c){return Array.prototype.indexOf.call(a,b,c)}:function(a,b,c){c=null==c?0:0>c?Math.max(0,a.length+c):c;if(&quot;string&quot;==typeof a)return&quot;string&quot;==typeof b&amp;&amp;1==b.length?a.indexOf(b,c):-1;for(;c<a .length;c++)if(c in a&amp;&amp;a[c]===b)return c;return-1};var w=function(a){w[&quot; &quot;](a);return a};w[&quot; &quot;]=function(){};var x;a:{var y=g.navigator;if(y){var z=y.userAgent;if(z){x=z;break a}}x=&quot;&quot;};var ea=-1!=x.indexOf(&quot;Opera&quot;)||-1!=x.indexOf(&quot;OPR&quot;),A=-1!=x.indexOf(&quot;Trident&quot;)||-1!=x.indexOf(&quot;MSIE&quot;),fa=-1!=x.indexOf(&quot;Edge&quot;),B=-1!=x.indexOf(&quot;Gecko&quot;)&amp;&amp;!(-1!=x.toLowerCase().indexOf(&quot;webkit&quot;)&amp;&amp;-1==x.indexOf(&quot;Edge&quot;))&amp;&amp;!(-1!=x.indexOf(&quot;Trident&quot;)||-1!=x.indexOf(&quot;MSIE&quot;))&amp;&amp;-1==x.indexOf(&quot;Edge&quot;),ga=-1!=x.toLowerCase().indexOf(&quot;webkit&quot;)&amp;&amp;-1==x.indexOf(&quot;Edge&quot;),ha=function(){var a=x;if(B)return/rv\\:([^\\);]+)(\\)|;)/.exec(a);if(fa)return/Edge\\/([\\d\\.]+)/.exec(a);if(A)return/\\b(?:MSIE|rv)[: ]([^\\);]+)(\\)|;)/.exec(a);if(ga)return/WebKit\\/(\\S+)/.exec(a)},C=function(){var a=g.document;return a?a.documentMode:void 0},D=function(){if(ea&amp;&amp;g.opera){var a;var b=g.opera.version;try{a=b()}catch(c){a=b}return a}a=&quot;&quot;;(b=ha())&amp;&amp;(a=b?b[1]:&quot;&quot;);return A&amp;&amp;(b=C(),b>parseFloat(a))?String(b):a}(),E={},F=function(a){var b;if(!(b=E[a])){b=0;for(var c=u(String(D)).split(&quot;.&quot;),d=u(String(a)).split(&quot;.&quot;),e=Math.max(c.length,d.length),f=0;0==b&amp;&amp;f<e ;f++){var h=c[f]||&quot;&quot;,m=d[f]||&quot;&quot;,r=RegExp(&quot;(\\\\d*)(\\\\D*)&quot;,&quot;g&quot;),ma=RegExp(&quot;(\\\\d*)(\\\\D*)&quot;,&quot;g&quot;);do{var q=r.exec(h)||[&quot;&quot;,&quot;&quot;,&quot;&quot;],t=ma.exec(m)||[&quot;&quot;,&quot;&quot;,&quot;&quot;];if(0==q[0].length&amp;&amp;0==t[0].length)break;b=v(0==q[1].length?0:parseInt(q[1],10),0==t[1].length?0:parseInt(t[1],10))||v(0==q[2].length,0==t[2].length)||v(q[2],t[2])}while(0==b)}b=E[a]=0<=b}return b},G=g.document,ia=G&amp;&amp;A?C()||(&quot;CSS1Compat&quot;==G.compatMode?parseInt(D,10):5):void 0;var H;if(!(H=!B&amp;&amp;!A)){var I;if(I=A)I=9<=Number(ia);H=I}H||B&amp;&amp;F(&quot;1.9.1&quot;);var J=A&amp;&amp;!F(&quot;9&quot;);var K=function(a){var b=document;return&quot;string&quot;==typeof a?b.getElementById(a):a},L=function(a,b){var c=b||document;return c.querySelectorAll&amp;&amp;c.querySelector?c.querySelectorAll(&quot;.&quot;+a):ka(a,b)},ka=function(a,b){var c,d,e,f;c=document;c=b||c;if(c.querySelectorAll&amp;&amp;c.querySelector&amp;&amp;a)return c.querySelectorAll(&quot;&quot;+(a?&quot;.&quot;+a:&quot;&quot;));if(a&amp;&amp;c.getElementsByClassName){var h=c.getElementsByClassName(a);return h}h=c.getElementsByTagName(&quot;*&quot;);if(a){f={};for(d=e=0;c=h[d];d++){var m=c.className,r;if(r=&quot;function&quot;==typeof m.split)r=0<=da(m.split(/\\s+/),a);r&amp;&amp;(f[e++]=c)}f.length=e;return f}return h},la={SCRIPT:1,STYLE:1,HEAD:1,IFRAME:1,OBJECT:1},M={IMG:&quot; &quot;,BR:&quot;\\n&quot;},na=function(){var a=document.getElementById(&quot;feedback-closing-template&quot;);if(J&amp;&amp;null!==a&amp;&amp;&quot;innerText&quot;in a)a=a.innerText.replace(/(\\r\\n|\\r|\\n)/g,&quot;\\n&quot;);else{var b=[];N(a,b,!0);a=b.join(&quot;&quot;)}a=a.replace(/ \\xAD /g,&quot; &quot;).replace(/\\xAD/g,&quot;&quot;);a=a.replace(/\\u200B/g,&quot;&quot;);J||(a=a.replace(/ +/g,&quot; &quot;));&quot; &quot;!=a&amp;&amp;(a=a.replace(/^\\s*/,&quot;&quot;));return a},N=function(a,b,c){if(!(a.nodeName in la))if(3==a.nodeType)c?b.push(String(a.nodeValue).replace(/(\\r\\n|\\r|\\n)/g,&quot;&quot;)):b.push(a.nodeValue);else if(a.nodeName in M)b.push(M[a.nodeName]);else for(a=a.firstChild;a;)N(a,b,c),a=a.nextSibling},O=function(a){this.w=a||g.document||document},oa=function(a,b){return L(&quot;feedback_description&quot;,b||a.w)};O.prototype.createElement=function(a){return this.w.createElement(a)};O.prototype.createTextNode=function(a){return this.w.createTextNode(String(a))};O.prototype.appendChild=function(a,b){a.appendChild(b)};var P=function(a){var b=window;return b.getComputedStyle?b.getComputedStyle(a,null):a.currentStyle};var Q=function(a,b){a.addEventListener?a.addEventListener(&quot;click&quot;,b,!1):a.attachEvent&amp;&amp;a.attachEvent(&quot;onclick&quot;,b)};var R=function(a){var b=window;b.google_image_requests||(b.google_image_requests=[]);var c=b.document.createElement(&quot;img&quot;);c.src=a;b.google_image_requests.push(c)};var pa=function(a){var b={};if(a&amp;&amp;a.key_value){a=a.key_value;for(var c=0;c<a.length;c++){var d=a[c];if(&quot;key&quot;in d&amp;&amp;&quot;value&quot;in d){var e=d.value;b[d.key]=null==e?null:String(e)}}}return b};var qa=function(a){a=String(a);if(/^\\s*$/.test(a)?0:/^[\\],:{}\\s\\u2028\\u2029]*$/.test(a.replace(/\\\\[&quot;\\\\\\/bfnrtu]/g,&quot;@&quot;).replace(/(?:&quot;[^&quot;\\\\\\n\\r\\u2028\\u2029\\x00-\\x08\\x0a-\\x1f]*&quot;|true|false|null|-?\\d+(?:\\.\\d*)?(?:[eE][+\\-]?\\d+)?)[\\s\\u2028\\u2029]*(?=:|,|]|}|$)/g,&quot;]&quot;).replace(/(?:^|:|,)(?:[\\s\\u2028\\u2029]*\\[)+/g,&quot;&quot;)))try{return eval(&quot;(&quot;+a+&quot;)&quot;)}catch(b){}throw Error(&quot;Invalid JSON string: &quot;+a);},T=function(a){var b=[];S(new ra,a,b);return b.join(&quot;&quot;)},ra=function(){this.o=void 0},S=function(a,b,c){if(null==b)c.push(&quot;null&quot;);else{if(&quot;object&quot;==typeof b){if(&quot;array&quot;==aa(b)){var d=b;b=d.length;c.push(&quot;[&quot;);for(var e=&quot;&quot;,f=0;f<b;f++)c.push(e),e=d[f],S(a,a.o?a.o.call(d,String(f),e):e,c),e=&quot;,&quot;;c.push(&quot;]&quot;);return}if(b instanceof String||b instanceof Number||b instanceof Boolean)b=b.valueOf();else{c.push(&quot;{&quot;);f=&quot;&quot;;for(d in b)Object.prototype.hasOwnProperty.call(b,d)&amp;&amp;(e=b[d],&quot;function&quot;!=typeof e&amp;&amp;(c.push(f),U(d,c),c.push(&quot;:&quot;),S(a,a.o?a.o.call(b,d,e):e,c),f=&quot;,&quot;));c.push(&quot;}&quot;);return}}switch(typeof b){case &quot;string&quot;:U(b,c);break;case &quot;number&quot;:c.push(isFinite(b)&amp;&amp;!isNaN(b)?String(b):&quot;null&quot;);break;case &quot;boolean&quot;:c.push(String(b));break;case &quot;function&quot;:c.push(&quot;null&quot;);break;default:throw Error(&quot;Unknown type: &quot;+typeof b);}}},sa={'&quot;':'\\\\&quot;',&quot;\\\\&quot;:&quot;\\\\\\\\&quot;,&quot;/&quot;:&quot;\\\\/&quot;,&quot;\\b&quot;:&quot;\\\\b&quot;,&quot;\\f&quot;:&quot;\\\\f&quot;,&quot;\\n&quot;:&quot;\\\\n&quot;,&quot;\\r&quot;:&quot;\\\\r&quot;,&quot;\\t&quot;:&quot;\\\\t&quot;,&quot;\\x0B&quot;:&quot;\\\\u000b&quot;},ta=/\\uffff/.test(&quot;\\uffff&quot;)?/[\\\\\\&quot;\\x00-\\x1f\\x7f-\\uffff]/g:/[\\\\\\&quot;\\x00-\\x1f\\x7f-\\xff]/g,U=function(a,b){b.push('&quot;',a.replace(ta,function(a){var b=sa[a];b||(b=&quot;\\\\u&quot;+(a.charCodeAt(0)|65536).toString(16).substr(1),sa[a]=b);return b}),'&quot;')};var ua=function(){var a=document.body,b=a&amp;&amp;a.ownerDocument,c=b&amp;&amp;(b.defaultView||b.parentWindow),d;if(d=c){var e;d=c.top;try{var f;if(f=!!d&amp;&amp;null!=d.location.href)b:{try{w(d.foo);f=!0;break b}catch(m){}f=!1}e=f}catch(m){e=!1}d=e?c.top:null}c=d;this.O=!!c;this.h=null;try{this.h=a&amp;&amp;a.getBoundingClientRect()}catch(m){}e=a;f=0;for(d=this.h;e;)try{d&amp;&amp;(f+=d.top);var h=e.ownerDocument;e=(h.defaultView||h.parentWindow).frameElement;d=e.getBoundingClientRect()}catch(m){break}this.P=f;c=c||g;this.$=(&quot;CSS1Compat&quot;==c.document.compatMode?c.document.documentElement:c.document.body).clientHeight;b=b&amp;&amp;({visible:1,hidden:2,prerender:3,preview:4}[b.webkitVisibilityState||b.mozVisibilityState||b.visibilityState||&quot;&quot;]||0);this.aa=!!a&amp;&amp;!(2==b||3==b)&amp;&amp;!(this.h.top>=this.h.bottom&amp;&amp;this.h.left>=this.h.right)},va=function(){var a=new ua;return a.O&amp;&amp;(!a.aa||a.P>=a.$)};var V=function(a,b,c,d){this.G=a;this.R=b;this.T=c;this.m=0;this.l=document.getElementById(&quot;mtadmas&quot;);this.M=document.getElementById(&quot;mtadmaundo&quot;);this.C=document.getElementById(&quot;mtadmac&quot;);this.D=document.getElementById(&quot;mtadmback&quot;);this.J=document.getElementById(&quot;mtadmpc&quot;);this.N=document.getElementById(&quot;mtadmpundo&quot;);this.A=document.getElementById(&quot;mtadmpunclose&quot;);this.L=this.u=this.H=this.F=null;this.v=0;this.i=null;this.j=!1;this.s=null;this.W=d?d.getAdsLength():1;(this.g=d)&amp;&amp;this.g.registerWidget(this,0);this.I=0},wa=function(a){for(var b=document.getElementsByName(&quot;surveyOptions&quot;),c=0;c<b .length;c++)Q(b[c],l(a.X,a,b[c].value));a.M&amp;&amp;Q(a.M,l(a.B,a,&quot;1&quot;));a.N&amp;&amp;Q(a.N,l(a.B,a,&quot;3&quot;));a.A&amp;&amp;Q(a.A,l(a.Y,a));a.D&amp;&amp;Q(a.D,l(a.back,a));a.g&amp;&amp;(a.g.listenOnObject(&quot;mute_option_selected&quot;,l(a.K,a)),a.g.forEachAd(l(function(a){a.listenOnObject(&quot;multislot_mute_collapse&quot;,l(this.V,this));a.listenOnObject(&quot;multislot_mute_collapse_undo&quot;,l(this.U,this))},a)))};V.prototype.K=function(a){this.F=a.close_button_token;this.H=a.creative_conversion_url;this.u=a.ablation_config;this.L=a.undo_callback;this.v=a.creative_index||0;this.g&amp;&amp;(this.s=this.g.getAd(this.v));if(1===a.type){a=L(&quot;survey&quot;);for(var b=&quot;survey_&quot;+this.v,c=0;c<a.length;c++)a[c].style.display=a[c].id==b?&quot;block&quot;:&quot;none&quot;;a=document.getElementsByName(&quot;surveyOptions&quot;);for(b=0;b<a.length;b++)a[b].checked=!1;this.l.style.display=&quot;block&quot;;W(this);X(this)}else 0===a.type&amp;&amp;(this.J.style.display=&quot;block&quot;,this.l.style.display=&quot;none&quot;,W(this),xa(this,document.getElementById(&quot;pub-feedback-closing&quot;),this.u))};var Y=function(a){a.i&amp;&amp;(window.clearInterval(a.i),a.i=null,a.j=!1);K(&quot;pub-feedback-closing&quot;).style.display=&quot;none&quot;;K(&quot;ad-feedback-closing&quot;).style.display=&quot;none&quot;};V.prototype.B=function(a){this.j||(Y(this),R(Z(this,&quot;user_feedback_undo&quot;,a)),this.L())};V.prototype.Y=function(){var a={msg_type:&quot;resize-me&quot;};a.key_value=[{key:&quot;r_nh&quot;,value:String(this.I)},{key:&quot;r_str&quot;,value:&quot;animate&quot;}];a=T(a);window.top.postMessage(a,&quot;*&quot;);this.j=!1;this.B(&quot;3&quot;)};V.prototype.back=function(){this.j||(Y(this),this.l.style.display=&quot;block&quot;,W(this),X(this))};V.prototype.X=function(a){this.C.style.display=&quot;block&quot;;this.l.style.display=&quot;none&quot;;X(this);R(Z(this,&quot;mute_survey_option&quot;,a));a=document.getElementById(&quot;ad-feedback-closing&quot;);this.m<this.W-1&amp;&amp;this.g&amp;&amp;this.R?ya(this,a):xa(this,a,this.u)};var Z=function(a,b,c){return a.H+&quot;&amp;label=&quot;+b+&quot;&amp;cbt=&quot;+a.F+&quot;&amp;label_instance=&quot;+c},W=function(a){a.C.style.display=&quot;none&quot;},X=function(a){a.J.style.display=&quot;none&quot;},za=function(a,b,c,d,e,f){var h=c+d;if(!(0> e||e>h||a.i)){var m=na();c=l(function(){var a=&quot;&quot;;h< =d&amp;&amp;0<h&amp;&amp;(a=m.replace(&quot;%1$d&quot;,String(h)));b.style.display=a?&quot;inline&quot;:&quot;none&quot;;if(&quot;textContent&quot;in b)b.textContent=a;else if(3==b.nodeType)b.data=a;else if(b.firstChild&amp;&amp;3==b.firstChild.nodeType){for(;b.lastChild!=b.firstChild;)b.removeChild(b.lastChild);b.firstChild.data=a}else{for(var c;c=b.firstChild;)b.removeChild(c);b.appendChild((9==b.nodeType?b:b.ownerDocument||b.document).createTextNode(String(a)))}if(h==e)try{this.j=!0,f()}catch(q){}0>=h&amp;&amp;Y(this);h--},a);c();0< =h&amp;&amp;(a.i=window.setInterval(c,1E3))}},xa=function(a,b,c){if(c&amp;&amp;window.top&amp;&amp;window.top.postMessage){var d=qa(c),e=pa(d),f=&quot;resize-me&quot;==d.msg_type&amp;&amp;&quot;animate&quot;==e.r_str;if(&quot;ablate-me&quot;==d.msg_type&amp;&amp;e[&quot;collapse-after-close&quot;]||f&amp;&amp;!va())a.A&amp;&amp;(a.I=window.innerHeight,f=document.getElementById(&quot;cbtf&quot;),f=oa(p||(p=new O),f)[1],f=Aa(a.S,f),c=Ba(d,f)),za(a,b,n(e[&quot;secs-to-countdown&quot;],1),n(e.countdown,0),n(e[&quot;message-tick&quot;],1),function(){window.top.postMessage(c,&quot;*&quot;)})}},Ba=function(a,b){if(!isNaN(b)&amp;&amp;isFinite(b)){var c=!1;if(a.key_value){for(var d=a.key_value,e=0;e<d.length;e++){var f=d[e];if(&quot;key&quot;in f&amp;&amp;&quot;value&quot;in f&amp;&amp;&quot;r_nh&quot;==f.key){c=!0;f.value=b.toString();break}}c||d.push({key:&quot;r_nh&quot;,value:b.toString()})}}return T(a)};V.prototype.S=function(a){var b=P(a);a=P(a.parentNode.parentNode);return parseInt(b.height,10)+parseInt(b.marginTop,10)+parseInt(a.marginTop,10)};var Aa=function(a,b){for(var c=[],d=b;d&amp;&amp;&quot;BODY&quot;!=d.tagName;d=d.parentNode)d.style&amp;&amp;&quot;block&quot;!=d.style.display&amp;&amp;(c.push({el:d,val:d.style.display}),d.style.display=&quot;block&quot;);for(var d=a(b),e;e=c.pop();)void 0!==e.Z&amp;&amp;(e.ba.style.display=e.Z);return d},ya=function(a,b){za(a,b,1,a.T,0,l(function(){var a={creative_index:this.s.getIndex(),undo_pingback_url:Z(this,&quot;user_feedback_undo&quot;,&quot;1&quot;)};this.s.fireOnObject(&quot;multislot_mute_collapse&quot;,a)},a))};V.prototype.V=function(){this.m++;this.g.resetAll()};V.prototype.U=function(){0<this.m&amp;&amp;this.m--};V.prototype.show=function(){this.G.style.display=&quot;block&quot;};V.prototype.hide=function(){this.G.style.display=&quot;none&quot;};V.prototype.reset=function(){this.hide()};V.prototype.show=V.prototype.show;V.prototype.hide=V.prototype.hide;V.prototype.reset=V.prototype.reset;V.prototype.setupSurveyPage=V.prototype.K;k(&quot;cmtads&quot;,function(a,b){var c=null,d=document.getElementById(&quot;cbtf&quot;);d&amp;&amp;(c=new V(d,!!a,b||0,window.adSlot),wa(c));c&amp;&amp;k(&quot;muteSurvey&quot;,c);return c});}).call(this);cmtads(true,0); // ]]&gt;</b></e></a> // ]]&gt;\n",
      "\n",
      "Clean data 19802: donald rumsfeld is in full damage control mode after a declassified memo from 2002 making the rounds revealed that he lied about iraq s wmds. like anyone desperate to sway public opinion and keep himself out of jail, rumsfeld is giving interviews to tell his side. why he decided to go the late show with stephen colbert is unclear. colbert is a screaming liberal, very smart and very well-informed. perhaps rumsfeld thought he could outmaneuver the comedian? maybe he thought colbert would go easy on him? maybe rumsfeld is suffering from dementia?needless to say, the interview did not go well for rumsfeld:the talk show host said this showed bush administration officials believed there were weapons of mass destruction but they had no hard evidence of their existence. i believe that sincerely i don t think anybody made up the belief that there were weapons of mass destruction, colbert said, as rumsfeld insisted those beliefs were sincere. that is cynicism beyond what i would ever want to think of my government. i believe that everybody believed that they were there, but there was no hard proof that they were there, he continued. and yet it was presented to the american people as if there was. so there was an unknown known for the american people. it was known that there was not hard evidence, but we were presented a partial picture and that s the unknown known that we were denied. do you think that was the right thing to do? in this, colbert is far nicer than i would have been. we already know that bush and his neo-con administration wanted an excuse to invade iraq. in the immediate aftermath of 9/11, bush demanded that the intelligence community find a connection between iraq and the attacks. when they couldn t find a connection, one was manufactured for the sole purpose of selling the american people on the war. in this known known context, it takes very little to imagine bush, cheney and rumsfeld fabricating their belief in wmds from whole cloth.but the best moment came when colbert got rumsfeld to admit, out loud, that the utter certainty about wmds that we were sold was, in fact, total bullshit: were there things that the administration or you knew that we didn t learn about out of the best possible intentions which is, there were things that would undermine the case for a war you thought was necessary to save the united states, colbert said.at last, rumsfeld delivered a straight answer. the president had available to him intelligence from all elements of the government, and the national security council members had that information, rumsfeld said. it was all shared, it was all supplied, and it s never certain if it were a fact, it wouldn t be called intelligence. translation into non-weasel speak: we lied when we said we knew for a fact that the wmds existed.if you ll recall, the made up connection to 9/11 and wmds were the entire basis for the iraq war and rumsfeld just admitted they lied about them.for the revisionists out there, a quick history lesson. rumsfeld didn t say he thought iraq had wmds. or that we were pretty sure or even very confident. he didn t equivocate in the slightest. he said we knew where they were. stephanopoulos: and is it curious to you that given how much control u.s. and coalition forces now have in the country, they haven t found any weapons of mass destruction?sec. rumsfeld: we know where they are. they re in the area around tikrit and baghdad and east, west, south and north somewhat.-abc s this week, 3/30/03if the american people had been told that our intelligence on wmds was as shaky as it actually was, no one but the most bloodthirsty among us would have supported it. americans are more than happy to bomb people that attack us or a friend, but preemptive war is not, and has never been, a part of our dna. rumsfeld and his co-conspirators knew this so they lied through their teeth. it took a comedian to finally get one of the blood-soaked architects of america s worst war since vietnam to admit it.bravo, mr. colbert! bravo!here s the amazing video:featured image via screencap.\n",
      "\n"
     ]
    }
   ],
   "source": [
    "print(\"Discovery text of data:\\n\")\n",
    "\n",
    "print(f\"Data 1454: {df['text'][1454]}\\n\")\n",
    "print(f\"Clean data 1454: {df['clean_text'][1454]}\\n\")\n",
    "\n",
    "print(f\"Data 19802: {df['text'][19802]}\\n\")\n",
    "print(f\"Clean data 19802: {df['clean_text'][19802]}\\n\")"
   ]
  },
  {
   "cell_type": "code",
   "execution_count": null,
   "metadata": {
    "execution": {
     "iopub.execute_input": "2025-06-09T04:26:31.840804Z",
     "iopub.status.busy": "2025-06-09T04:26:31.840510Z",
     "iopub.status.idle": "2025-06-09T04:26:31.857281Z",
     "shell.execute_reply": "2025-06-09T04:26:31.856092Z",
     "shell.execute_reply.started": "2025-06-09T04:26:31.840783Z"
    },
    "trusted": true
   },
   "outputs": [],
   "source": [
    "def tokenize_and_filter(text):  # dùng cho các mô hình truyền thống như TF-IDF\n",
    "    # Mở rộng các từ viết tắt (contractions)\n",
    "    text = contractions.fix(text)\n",
    "\n",
    "    # Tokenize\n",
    "    tokens = word_tokenize(text)\n",
    "\n",
    "    # Lọc stopwords và chỉ giữ từ alphabet -> stemming\n",
    "    return [stemmer.stem(w) for w in tokens if w.lower() not in stop_words and w.isalpha()]"
   ]
  },
  {
   "cell_type": "code",
   "execution_count": null,
   "metadata": {
    "execution": {
     "iopub.execute_input": "2025-06-09T04:26:31.859464Z",
     "iopub.status.busy": "2025-06-09T04:26:31.859171Z",
     "iopub.status.idle": "2025-06-09T04:26:31.874501Z",
     "shell.execute_reply": "2025-06-09T04:26:31.873668Z",
     "shell.execute_reply.started": "2025-06-09T04:26:31.859443Z"
    },
    "trusted": true
   },
   "outputs": [],
   "source": [
    "def tokenize_texts(tokenizer, texts, max_length=512): # dùng cho các mô hình như BERT\n",
    "    return tokenizer(\n",
    "        texts,\n",
    "        truncation=True,      # Cắt bớt nếu dài hơn max_length\n",
    "        padding=True,         # Tự động thêm padding để đồng đều độ dài\n",
    "        max_length=max_length # Độ dài tối đa mỗi đoạn văn\n",
    "    )"
   ]
  }
 ],
 "metadata": {
  "colab": {
   "provenance": []
  },
  "kaggle": {
   "accelerator": "none",
   "dataSources": [
    {
     "datasetId": 7613195,
     "sourceId": 12093802,
     "sourceType": "datasetVersion"
    }
   ],
   "dockerImageVersionId": 31040,
   "isGpuEnabled": false,
   "isInternetEnabled": true,
   "language": "python",
   "sourceType": "notebook"
  },
  "kernelspec": {
   "display_name": "Python 3",
   "language": "python",
   "name": "python3"
  },
  "language_info": {
   "codemirror_mode": {
    "name": "ipython",
    "version": 3
   },
   "file_extension": ".py",
   "mimetype": "text/x-python",
   "name": "python",
   "nbconvert_exporter": "python",
   "pygments_lexer": "ipython3",
   "version": "3.12.3"
  }
 },
 "nbformat": 4,
 "nbformat_minor": 4
}
