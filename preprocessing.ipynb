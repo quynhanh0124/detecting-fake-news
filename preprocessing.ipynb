{
 "cells": [
  {
   "cell_type": "markdown",
   "metadata": {
    "id": "eFCzIBshcHmg"
   },
   "source": [
    "# **Final Project**\n",
    "\n",
    "## **Problem stament :**     \n",
    "\n",
    "The widespread dissemination of fake news and propaganda presents serious societal risks, including the erosion of public trust, political polarization, manipulation of elections, and the spread of harmful misinformation during crises such as pandemics or conflicts. From an NLP perspective, detecting fake news is fraught with challenges. Linguistically, fake news often mimics the tone and structure of legitimate journalism, making it difficult to distinguish using surface-level features. The absence of reliable and up-to-date labeled datasets, especially across multiple languages and regions, hampers the effectiveness of supervised learning models. Additionally, the dynamic and adversarial nature of misinformation means that malicious actors constantly evolve their language and strategies to bypass detection systems. Cultural context, sarcasm, satire, and implicit bias further complicate automated analysis. Moreover, NLP models risk amplifying biases present in training data, leading to unfair classifications and potential censorship of legitimate content. These challenges underscore the need for cautious, context-aware approaches, as the failure to address them can inadvertently contribute to misinformation, rather than mitigate it.\n",
    "\n",
    "\n",
    "\n",
    "Use datasets in link : https://drive.google.com/drive/folders/1mrX3vPKhEzxG96OCPpCeh9F8m_QKCM4z?usp=sharing\n",
    "to complete requirement.\n",
    "\n",
    "## **About dataset:**\n",
    "\n",
    "* **True Articles**:\n",
    "\n",
    "  * **File**: `MisinfoSuperset_TRUE.csv`\n",
    "  * **Sources**:\n",
    "\n",
    "    * Reputable media outlets like **Reuters**, **The New York Times**, **The Washington Post**, etc.\n",
    "\n",
    "* **Fake/Misinformation/Propaganda Articles**:\n",
    "\n",
    "  * **File**: `MisinfoSuperset_FAKE.csv`\n",
    "  * **Sources**:\n",
    "\n",
    "    * **American right-wing extremist websites** (e.g., Redflag Newsdesk, Breitbart, Truth Broadcast Network)\n",
    "    * **Public dataset** from:\n",
    "\n",
    "      * Ahmed, H., Traore, I., & Saad, S. (2017): \"Detection of Online Fake News Using N-Gram Analysis and Machine Learning Techniques\" *(Springer LNCS 10618)*\n",
    "\n",
    "\n",
    "\n",
    "## **Requirement**\n",
    "\n",
    "A team consisting of three members must complete a project that involves applying the methods learned from the beginning of the course up to the present. The team is expected to follow and document the entire machine learning workflow, which includes the following steps:\n",
    "\n",
    "1. **Data Preprocessing**: Clean and prepare the dataset,etc.\n",
    "\n",
    "2. **Exploratory Data Analysis (EDA)**: Explore and visualize the data.\n",
    "\n",
    "3. **Model Building**: Select and build one or more machine learning models suitable for the problem at hand.\n",
    "\n",
    "4. **Hyperparameter set up**: Set and adjust the model's hyperparameters using appropriate methods to improve performance.\n",
    "\n",
    "5. **Model Training**: Train the model(s) on the training dataset.\n",
    "\n",
    "6. **Performance Evaluation**: Evaluate the trained model(s) using appropriate metrics (e.g., accuracy, precision, recall, F1-score, confusion matrix, etc.) and validate their performance on unseen data.\n",
    "\n",
    "7. **Conclusion**: Summarize the results, discuss the model's strengths and weaknesses, and suggest possible improvements or future work.\n",
    "\n",
    "\n",
    "\n"
   ]
  },
  {
   "cell_type": "markdown",
   "metadata": {},
   "source": [
    "# Read dataset"
   ]
  },
  {
   "cell_type": "code",
   "execution_count": 1,
   "metadata": {
    "execution": {
     "iopub.execute_input": "2025-06-08T06:31:08.223090Z",
     "iopub.status.busy": "2025-06-08T06:31:08.222522Z",
     "iopub.status.idle": "2025-06-08T06:31:12.088566Z",
     "shell.execute_reply": "2025-06-08T06:31:12.087384Z",
     "shell.execute_reply.started": "2025-06-08T06:31:08.223054Z"
    },
    "trusted": true
   },
   "outputs": [
    {
     "name": "stdout",
     "output_type": "stream",
     "text": [
      "Requirement already satisfied: contractions in /usr/local/lib/python3.11/dist-packages (0.1.73)\n",
      "Requirement already satisfied: textsearch>=0.0.21 in /usr/local/lib/python3.11/dist-packages (from contractions) (0.0.24)\n",
      "Requirement already satisfied: anyascii in /usr/local/lib/python3.11/dist-packages (from textsearch>=0.0.21->contractions) (0.3.2)\n",
      "Requirement already satisfied: pyahocorasick in /usr/local/lib/python3.11/dist-packages (from textsearch>=0.0.21->contractions) (2.1.0)\n"
     ]
    }
   ],
   "source": [
    "!pip install contractions"
   ]
  },
  {
   "cell_type": "code",
   "execution_count": 2,
   "metadata": {
    "execution": {
     "iopub.execute_input": "2025-06-08T06:31:12.090074Z",
     "iopub.status.busy": "2025-06-08T06:31:12.089793Z",
     "iopub.status.idle": "2025-06-08T06:31:16.942973Z",
     "shell.execute_reply": "2025-06-08T06:31:16.941837Z",
     "shell.execute_reply.started": "2025-06-08T06:31:12.090047Z"
    },
    "trusted": true
   },
   "outputs": [],
   "source": [
    "import pandas as pd\n",
    "import re\n",
    "import contractions\n",
    "\n",
    "import nltk\n",
    "from nltk.corpus import stopwords\n",
    "from nltk.stem import PorterStemmer\n",
    "from nltk.tokenize import word_tokenize\n",
    "from transformers import BertTokenizer"
   ]
  },
  {
   "cell_type": "code",
   "execution_count": 3,
   "metadata": {
    "execution": {
     "iopub.execute_input": "2025-06-08T06:31:16.944762Z",
     "iopub.status.busy": "2025-06-08T06:31:16.944098Z",
     "iopub.status.idle": "2025-06-08T06:31:18.634165Z",
     "shell.execute_reply": "2025-06-08T06:31:18.633226Z",
     "shell.execute_reply.started": "2025-06-08T06:31:16.944727Z"
    },
    "trusted": true
   },
   "outputs": [
    {
     "data": {
      "text/html": [
       "<div>\n",
       "<style scoped>\n",
       "    .dataframe tbody tr th:only-of-type {\n",
       "        vertical-align: middle;\n",
       "    }\n",
       "\n",
       "    .dataframe tbody tr th {\n",
       "        vertical-align: top;\n",
       "    }\n",
       "\n",
       "    .dataframe thead th {\n",
       "        text-align: right;\n",
       "    }\n",
       "</style>\n",
       "<table border=\"1\" class=\"dataframe\">\n",
       "  <thead>\n",
       "    <tr style=\"text-align: right;\">\n",
       "      <th></th>\n",
       "      <th>Unnamed: 0</th>\n",
       "      <th>text</th>\n",
       "    </tr>\n",
       "  </thead>\n",
       "  <tbody>\n",
       "    <tr>\n",
       "      <th>0</th>\n",
       "      <td>0</td>\n",
       "      <td>The head of a conservative Republican faction ...</td>\n",
       "    </tr>\n",
       "    <tr>\n",
       "      <th>1</th>\n",
       "      <td>1</td>\n",
       "      <td>Transgender people will be allowed for the fir...</td>\n",
       "    </tr>\n",
       "    <tr>\n",
       "      <th>2</th>\n",
       "      <td>2</td>\n",
       "      <td>The special counsel investigation of links bet...</td>\n",
       "    </tr>\n",
       "    <tr>\n",
       "      <th>3</th>\n",
       "      <td>3</td>\n",
       "      <td>Trump campaign adviser George Papadopoulos tol...</td>\n",
       "    </tr>\n",
       "    <tr>\n",
       "      <th>4</th>\n",
       "      <td>4</td>\n",
       "      <td>President Donald Trump called on the U.S. Post...</td>\n",
       "    </tr>\n",
       "    <tr>\n",
       "      <th>...</th>\n",
       "      <td>...</td>\n",
       "      <td>...</td>\n",
       "    </tr>\n",
       "    <tr>\n",
       "      <th>34970</th>\n",
       "      <td>34970</td>\n",
       "      <td>Most conservatives who oppose marriage equalit...</td>\n",
       "    </tr>\n",
       "    <tr>\n",
       "      <th>34971</th>\n",
       "      <td>34971</td>\n",
       "      <td>The freshman senator from Georgia quoted scrip...</td>\n",
       "    </tr>\n",
       "    <tr>\n",
       "      <th>34972</th>\n",
       "      <td>34972</td>\n",
       "      <td>The State Department told the Republican Natio...</td>\n",
       "    </tr>\n",
       "    <tr>\n",
       "      <th>34973</th>\n",
       "      <td>34973</td>\n",
       "      <td>ADDIS ABABA, Ethiopia —President Obama convene...</td>\n",
       "    </tr>\n",
       "    <tr>\n",
       "      <th>34974</th>\n",
       "      <td>34974</td>\n",
       "      <td>Jeb Bush Is Suddenly Attacking Trump. Here's W...</td>\n",
       "    </tr>\n",
       "  </tbody>\n",
       "</table>\n",
       "<p>34975 rows × 2 columns</p>\n",
       "</div>"
      ],
      "text/plain": [
       "       Unnamed: 0                                               text\n",
       "0               0  The head of a conservative Republican faction ...\n",
       "1               1  Transgender people will be allowed for the fir...\n",
       "2               2  The special counsel investigation of links bet...\n",
       "3               3  Trump campaign adviser George Papadopoulos tol...\n",
       "4               4  President Donald Trump called on the U.S. Post...\n",
       "...           ...                                                ...\n",
       "34970       34970  Most conservatives who oppose marriage equalit...\n",
       "34971       34971  The freshman senator from Georgia quoted scrip...\n",
       "34972       34972  The State Department told the Republican Natio...\n",
       "34973       34973  ADDIS ABABA, Ethiopia —President Obama convene...\n",
       "34974       34974  Jeb Bush Is Suddenly Attacking Trump. Here's W...\n",
       "\n",
       "[34975 rows x 2 columns]"
      ]
     },
     "execution_count": 3,
     "metadata": {},
     "output_type": "execute_result"
    }
   ],
   "source": [
    "true_df = pd.read_csv(\"/kaggle/input/misinfo/DataSet_Misinfo_TRUE.csv\")\n",
    "true_df"
   ]
  },
  {
   "cell_type": "code",
   "execution_count": 4,
   "metadata": {
    "execution": {
     "iopub.execute_input": "2025-06-08T06:31:18.635478Z",
     "iopub.status.busy": "2025-06-08T06:31:18.635162Z",
     "iopub.status.idle": "2025-06-08T06:31:20.082917Z",
     "shell.execute_reply": "2025-06-08T06:31:20.081727Z",
     "shell.execute_reply.started": "2025-06-08T06:31:18.635430Z"
    },
    "trusted": true
   },
   "outputs": [
    {
     "data": {
      "text/html": [
       "<div>\n",
       "<style scoped>\n",
       "    .dataframe tbody tr th:only-of-type {\n",
       "        vertical-align: middle;\n",
       "    }\n",
       "\n",
       "    .dataframe tbody tr th {\n",
       "        vertical-align: top;\n",
       "    }\n",
       "\n",
       "    .dataframe thead th {\n",
       "        text-align: right;\n",
       "    }\n",
       "</style>\n",
       "<table border=\"1\" class=\"dataframe\">\n",
       "  <thead>\n",
       "    <tr style=\"text-align: right;\">\n",
       "      <th></th>\n",
       "      <th>Unnamed: 0</th>\n",
       "      <th>text</th>\n",
       "    </tr>\n",
       "  </thead>\n",
       "  <tbody>\n",
       "    <tr>\n",
       "      <th>0</th>\n",
       "      <td>0</td>\n",
       "      <td>Donald Trump just couldn t wish all Americans ...</td>\n",
       "    </tr>\n",
       "    <tr>\n",
       "      <th>1</th>\n",
       "      <td>1</td>\n",
       "      <td>House Intelligence Committee Chairman Devin Nu...</td>\n",
       "    </tr>\n",
       "    <tr>\n",
       "      <th>2</th>\n",
       "      <td>2</td>\n",
       "      <td>On Friday, it was revealed that former Milwauk...</td>\n",
       "    </tr>\n",
       "    <tr>\n",
       "      <th>3</th>\n",
       "      <td>3</td>\n",
       "      <td>On Christmas day, Donald Trump announced that ...</td>\n",
       "    </tr>\n",
       "    <tr>\n",
       "      <th>4</th>\n",
       "      <td>4</td>\n",
       "      <td>Pope Francis used his annual Christmas Day mes...</td>\n",
       "    </tr>\n",
       "    <tr>\n",
       "      <th>...</th>\n",
       "      <td>...</td>\n",
       "      <td>...</td>\n",
       "    </tr>\n",
       "    <tr>\n",
       "      <th>43637</th>\n",
       "      <td>44422</td>\n",
       "      <td>The USA wants to divide Syria.\\r\\n\\r\\nGreat Br...</td>\n",
       "    </tr>\n",
       "    <tr>\n",
       "      <th>43638</th>\n",
       "      <td>44423</td>\n",
       "      <td>The Ukrainian coup d'etat cost the US nothing ...</td>\n",
       "    </tr>\n",
       "    <tr>\n",
       "      <th>43639</th>\n",
       "      <td>44424</td>\n",
       "      <td>The European Parliament falsifies history by d...</td>\n",
       "    </tr>\n",
       "    <tr>\n",
       "      <th>43640</th>\n",
       "      <td>44425</td>\n",
       "      <td>The European Parliament falsifies history by d...</td>\n",
       "    </tr>\n",
       "    <tr>\n",
       "      <th>43641</th>\n",
       "      <td>44426</td>\n",
       "      <td>A leading FSB officer, Segey Beseda, said duri...</td>\n",
       "    </tr>\n",
       "  </tbody>\n",
       "</table>\n",
       "<p>43642 rows × 2 columns</p>\n",
       "</div>"
      ],
      "text/plain": [
       "       Unnamed: 0                                               text\n",
       "0               0  Donald Trump just couldn t wish all Americans ...\n",
       "1               1  House Intelligence Committee Chairman Devin Nu...\n",
       "2               2  On Friday, it was revealed that former Milwauk...\n",
       "3               3  On Christmas day, Donald Trump announced that ...\n",
       "4               4  Pope Francis used his annual Christmas Day mes...\n",
       "...           ...                                                ...\n",
       "43637       44422  The USA wants to divide Syria.\\r\\n\\r\\nGreat Br...\n",
       "43638       44423  The Ukrainian coup d'etat cost the US nothing ...\n",
       "43639       44424  The European Parliament falsifies history by d...\n",
       "43640       44425  The European Parliament falsifies history by d...\n",
       "43641       44426  A leading FSB officer, Segey Beseda, said duri...\n",
       "\n",
       "[43642 rows x 2 columns]"
      ]
     },
     "execution_count": 4,
     "metadata": {},
     "output_type": "execute_result"
    }
   ],
   "source": [
    "fake_df = pd.read_csv(\"/kaggle/input/misinfo/DataSet_Misinfo_FAKE.csv\")\n",
    "fake_df"
   ]
  },
  {
   "cell_type": "code",
   "execution_count": 5,
   "metadata": {
    "execution": {
     "iopub.execute_input": "2025-06-08T06:31:20.084502Z",
     "iopub.status.busy": "2025-06-08T06:31:20.084155Z",
     "iopub.status.idle": "2025-06-08T06:31:20.096309Z",
     "shell.execute_reply": "2025-06-08T06:31:20.095192Z",
     "shell.execute_reply.started": "2025-06-08T06:31:20.084469Z"
    },
    "trusted": true
   },
   "outputs": [],
   "source": [
    "# Delete order column\n",
    "true_df = true_df.drop('Unnamed: 0', axis=1)\n",
    "fake_df = fake_df.drop('Unnamed: 0', axis=1)"
   ]
  },
  {
   "cell_type": "code",
   "execution_count": 6,
   "metadata": {
    "execution": {
     "iopub.execute_input": "2025-06-08T06:31:20.099771Z",
     "iopub.status.busy": "2025-06-08T06:31:20.099460Z",
     "iopub.status.idle": "2025-06-08T06:31:20.126473Z",
     "shell.execute_reply": "2025-06-08T06:31:20.125158Z",
     "shell.execute_reply.started": "2025-06-08T06:31:20.099747Z"
    },
    "trusted": true
   },
   "outputs": [
    {
     "name": "stdout",
     "output_type": "stream",
     "text": [
      "<class 'pandas.core.frame.DataFrame'>\n",
      "RangeIndex: 34975 entries, 0 to 34974\n",
      "Data columns (total 1 columns):\n",
      " #   Column  Non-Null Count  Dtype \n",
      "---  ------  --------------  ----- \n",
      " 0   text    34946 non-null  object\n",
      "dtypes: object(1)\n",
      "memory usage: 273.4+ KB\n"
     ]
    }
   ],
   "source": [
    "true_df.info()"
   ]
  },
  {
   "cell_type": "code",
   "execution_count": 7,
   "metadata": {
    "execution": {
     "iopub.execute_input": "2025-06-08T06:31:20.127989Z",
     "iopub.status.busy": "2025-06-08T06:31:20.127625Z",
     "iopub.status.idle": "2025-06-08T06:31:20.177156Z",
     "shell.execute_reply": "2025-06-08T06:31:20.176167Z",
     "shell.execute_reply.started": "2025-06-08T06:31:20.127965Z"
    },
    "trusted": true
   },
   "outputs": [
    {
     "name": "stdout",
     "output_type": "stream",
     "text": [
      "<class 'pandas.core.frame.DataFrame'>\n",
      "RangeIndex: 43642 entries, 0 to 43641\n",
      "Data columns (total 1 columns):\n",
      " #   Column  Non-Null Count  Dtype \n",
      "---  ------  --------------  ----- \n",
      " 0   text    43642 non-null  object\n",
      "dtypes: object(1)\n",
      "memory usage: 341.1+ KB\n"
     ]
    }
   ],
   "source": [
    "fake_df.info()"
   ]
  },
  {
   "cell_type": "code",
   "execution_count": 8,
   "metadata": {
    "execution": {
     "iopub.execute_input": "2025-06-08T06:31:20.178512Z",
     "iopub.status.busy": "2025-06-08T06:31:20.178191Z",
     "iopub.status.idle": "2025-06-08T06:31:20.311838Z",
     "shell.execute_reply": "2025-06-08T06:31:20.310361Z",
     "shell.execute_reply.started": "2025-06-08T06:31:20.178479Z"
    },
    "trusted": true
   },
   "outputs": [
    {
     "data": {
      "text/html": [
       "<div>\n",
       "<style scoped>\n",
       "    .dataframe tbody tr th:only-of-type {\n",
       "        vertical-align: middle;\n",
       "    }\n",
       "\n",
       "    .dataframe tbody tr th {\n",
       "        vertical-align: top;\n",
       "    }\n",
       "\n",
       "    .dataframe thead th {\n",
       "        text-align: right;\n",
       "    }\n",
       "</style>\n",
       "<table border=\"1\" class=\"dataframe\">\n",
       "  <thead>\n",
       "    <tr style=\"text-align: right;\">\n",
       "      <th></th>\n",
       "      <th>text</th>\n",
       "    </tr>\n",
       "  </thead>\n",
       "  <tbody>\n",
       "    <tr>\n",
       "      <th>count</th>\n",
       "      <td>34946</td>\n",
       "    </tr>\n",
       "    <tr>\n",
       "      <th>unique</th>\n",
       "      <td>34526</td>\n",
       "    </tr>\n",
       "    <tr>\n",
       "      <th>top</th>\n",
       "      <td>Killing Obama administration rules, dismantlin...</td>\n",
       "    </tr>\n",
       "    <tr>\n",
       "      <th>freq</th>\n",
       "      <td>58</td>\n",
       "    </tr>\n",
       "  </tbody>\n",
       "</table>\n",
       "</div>"
      ],
      "text/plain": [
       "                                                     text\n",
       "count                                               34946\n",
       "unique                                              34526\n",
       "top     Killing Obama administration rules, dismantlin...\n",
       "freq                                                   58"
      ]
     },
     "execution_count": 8,
     "metadata": {},
     "output_type": "execute_result"
    }
   ],
   "source": [
    "true_df.describe()"
   ]
  },
  {
   "cell_type": "code",
   "execution_count": 9,
   "metadata": {
    "execution": {
     "iopub.execute_input": "2025-06-08T06:31:20.314202Z",
     "iopub.status.busy": "2025-06-08T06:31:20.313783Z",
     "iopub.status.idle": "2025-06-08T06:31:20.422109Z",
     "shell.execute_reply": "2025-06-08T06:31:20.421028Z",
     "shell.execute_reply.started": "2025-06-08T06:31:20.314170Z"
    },
    "trusted": true
   },
   "outputs": [
    {
     "data": {
      "text/html": [
       "<div>\n",
       "<style scoped>\n",
       "    .dataframe tbody tr th:only-of-type {\n",
       "        vertical-align: middle;\n",
       "    }\n",
       "\n",
       "    .dataframe tbody tr th {\n",
       "        vertical-align: top;\n",
       "    }\n",
       "\n",
       "    .dataframe thead th {\n",
       "        text-align: right;\n",
       "    }\n",
       "</style>\n",
       "<table border=\"1\" class=\"dataframe\">\n",
       "  <thead>\n",
       "    <tr style=\"text-align: right;\">\n",
       "      <th></th>\n",
       "      <th>text</th>\n",
       "    </tr>\n",
       "  </thead>\n",
       "  <tbody>\n",
       "    <tr>\n",
       "      <th>count</th>\n",
       "      <td>43642</td>\n",
       "    </tr>\n",
       "    <tr>\n",
       "      <th>unique</th>\n",
       "      <td>34078</td>\n",
       "    </tr>\n",
       "    <tr>\n",
       "      <th>top</th>\n",
       "      <td>Leave a Reply Click here to get more info on f...</td>\n",
       "    </tr>\n",
       "    <tr>\n",
       "      <th>freq</th>\n",
       "      <td>38</td>\n",
       "    </tr>\n",
       "  </tbody>\n",
       "</table>\n",
       "</div>"
      ],
      "text/plain": [
       "                                                     text\n",
       "count                                               43642\n",
       "unique                                              34078\n",
       "top     Leave a Reply Click here to get more info on f...\n",
       "freq                                                   38"
      ]
     },
     "execution_count": 9,
     "metadata": {},
     "output_type": "execute_result"
    }
   ],
   "source": [
    "fake_df.describe()"
   ]
  },
  {
   "cell_type": "markdown",
   "metadata": {},
   "source": [
    "# Data Preprocessing"
   ]
  },
  {
   "cell_type": "markdown",
   "metadata": {},
   "source": [
    "- Xử lý giá trị null"
   ]
  },
  {
   "cell_type": "code",
   "execution_count": 10,
   "metadata": {
    "execution": {
     "iopub.execute_input": "2025-06-08T06:31:20.423398Z",
     "iopub.status.busy": "2025-06-08T06:31:20.423130Z",
     "iopub.status.idle": "2025-06-08T06:31:20.437663Z",
     "shell.execute_reply": "2025-06-08T06:31:20.436473Z",
     "shell.execute_reply.started": "2025-06-08T06:31:20.423378Z"
    },
    "trusted": true
   },
   "outputs": [
    {
     "data": {
      "text/plain": [
       "text    29\n",
       "dtype: int64"
      ]
     },
     "execution_count": 10,
     "metadata": {},
     "output_type": "execute_result"
    }
   ],
   "source": [
    "true_df.isnull().sum()"
   ]
  },
  {
   "cell_type": "code",
   "execution_count": 11,
   "metadata": {
    "execution": {
     "iopub.execute_input": "2025-06-08T06:31:20.439063Z",
     "iopub.status.busy": "2025-06-08T06:31:20.438745Z",
     "iopub.status.idle": "2025-06-08T06:31:20.463889Z",
     "shell.execute_reply": "2025-06-08T06:31:20.462872Z",
     "shell.execute_reply.started": "2025-06-08T06:31:20.439033Z"
    },
    "trusted": true
   },
   "outputs": [
    {
     "data": {
      "text/plain": [
       "text    0\n",
       "dtype: int64"
      ]
     },
     "execution_count": 11,
     "metadata": {},
     "output_type": "execute_result"
    }
   ],
   "source": [
    "fake_df.isnull().sum()"
   ]
  },
  {
   "cell_type": "code",
   "execution_count": 12,
   "metadata": {
    "execution": {
     "iopub.execute_input": "2025-06-08T06:31:20.465489Z",
     "iopub.status.busy": "2025-06-08T06:31:20.465020Z",
     "iopub.status.idle": "2025-06-08T06:31:20.496270Z",
     "shell.execute_reply": "2025-06-08T06:31:20.495044Z",
     "shell.execute_reply.started": "2025-06-08T06:31:20.465411Z"
    },
    "trusted": true
   },
   "outputs": [],
   "source": [
    "true_df = true_df.dropna()"
   ]
  },
  {
   "cell_type": "markdown",
   "metadata": {},
   "source": [
    "- Xử lý giá trị duplicate"
   ]
  },
  {
   "cell_type": "code",
   "execution_count": 13,
   "metadata": {
    "execution": {
     "iopub.execute_input": "2025-06-08T06:31:20.497901Z",
     "iopub.status.busy": "2025-06-08T06:31:20.497531Z",
     "iopub.status.idle": "2025-06-08T06:31:20.523632Z",
     "shell.execute_reply": "2025-06-08T06:31:20.522511Z",
     "shell.execute_reply.started": "2025-06-08T06:31:20.497876Z"
    },
    "trusted": true
   },
   "outputs": [
    {
     "data": {
      "text/plain": [
       "420"
      ]
     },
     "execution_count": 13,
     "metadata": {},
     "output_type": "execute_result"
    }
   ],
   "source": [
    "true_df.duplicated().sum()"
   ]
  },
  {
   "cell_type": "code",
   "execution_count": 14,
   "metadata": {
    "execution": {
     "iopub.execute_input": "2025-06-08T06:31:20.525033Z",
     "iopub.status.busy": "2025-06-08T06:31:20.524728Z",
     "iopub.status.idle": "2025-06-08T06:31:20.553489Z",
     "shell.execute_reply": "2025-06-08T06:31:20.552339Z",
     "shell.execute_reply.started": "2025-06-08T06:31:20.525011Z"
    },
    "trusted": true
   },
   "outputs": [
    {
     "data": {
      "text/plain": [
       "9564"
      ]
     },
     "execution_count": 14,
     "metadata": {},
     "output_type": "execute_result"
    }
   ],
   "source": [
    "fake_df.duplicated().sum()"
   ]
  },
  {
   "cell_type": "code",
   "execution_count": 15,
   "metadata": {
    "execution": {
     "iopub.execute_input": "2025-06-08T06:31:20.555218Z",
     "iopub.status.busy": "2025-06-08T06:31:20.554873Z",
     "iopub.status.idle": "2025-06-08T06:31:20.595694Z",
     "shell.execute_reply": "2025-06-08T06:31:20.594580Z",
     "shell.execute_reply.started": "2025-06-08T06:31:20.555194Z"
    },
    "trusted": true
   },
   "outputs": [],
   "source": [
    "true_df = true_df.drop_duplicates()\n",
    "fake_df = fake_df.drop_duplicates()"
   ]
  },
  {
   "cell_type": "markdown",
   "metadata": {},
   "source": [
    "- Thêm label và gộp 2 tập dữ liệu"
   ]
  },
  {
   "cell_type": "code",
   "execution_count": 16,
   "metadata": {
    "execution": {
     "iopub.execute_input": "2025-06-08T06:31:20.597316Z",
     "iopub.status.busy": "2025-06-08T06:31:20.596981Z",
     "iopub.status.idle": "2025-06-08T06:31:20.614170Z",
     "shell.execute_reply": "2025-06-08T06:31:20.613278Z",
     "shell.execute_reply.started": "2025-06-08T06:31:20.597289Z"
    },
    "trusted": true
   },
   "outputs": [
    {
     "data": {
      "text/html": [
       "<div>\n",
       "<style scoped>\n",
       "    .dataframe tbody tr th:only-of-type {\n",
       "        vertical-align: middle;\n",
       "    }\n",
       "\n",
       "    .dataframe tbody tr th {\n",
       "        vertical-align: top;\n",
       "    }\n",
       "\n",
       "    .dataframe thead th {\n",
       "        text-align: right;\n",
       "    }\n",
       "</style>\n",
       "<table border=\"1\" class=\"dataframe\">\n",
       "  <thead>\n",
       "    <tr style=\"text-align: right;\">\n",
       "      <th></th>\n",
       "      <th>text</th>\n",
       "      <th>label</th>\n",
       "    </tr>\n",
       "  </thead>\n",
       "  <tbody>\n",
       "    <tr>\n",
       "      <th>0</th>\n",
       "      <td>The head of a conservative Republican faction ...</td>\n",
       "      <td>1</td>\n",
       "    </tr>\n",
       "    <tr>\n",
       "      <th>1</th>\n",
       "      <td>Transgender people will be allowed for the fir...</td>\n",
       "      <td>1</td>\n",
       "    </tr>\n",
       "    <tr>\n",
       "      <th>2</th>\n",
       "      <td>The special counsel investigation of links bet...</td>\n",
       "      <td>1</td>\n",
       "    </tr>\n",
       "    <tr>\n",
       "      <th>3</th>\n",
       "      <td>Trump campaign adviser George Papadopoulos tol...</td>\n",
       "      <td>1</td>\n",
       "    </tr>\n",
       "    <tr>\n",
       "      <th>4</th>\n",
       "      <td>President Donald Trump called on the U.S. Post...</td>\n",
       "      <td>1</td>\n",
       "    </tr>\n",
       "    <tr>\n",
       "      <th>...</th>\n",
       "      <td>...</td>\n",
       "      <td>...</td>\n",
       "    </tr>\n",
       "    <tr>\n",
       "      <th>68599</th>\n",
       "      <td>Apparently, the new Kyiv government is in a hu...</td>\n",
       "      <td>0</td>\n",
       "    </tr>\n",
       "    <tr>\n",
       "      <th>68600</th>\n",
       "      <td>The USA wants to divide Syria.\\r\\n\\r\\nGreat Br...</td>\n",
       "      <td>0</td>\n",
       "    </tr>\n",
       "    <tr>\n",
       "      <th>68601</th>\n",
       "      <td>The Ukrainian coup d'etat cost the US nothing ...</td>\n",
       "      <td>0</td>\n",
       "    </tr>\n",
       "    <tr>\n",
       "      <th>68602</th>\n",
       "      <td>The European Parliament falsifies history by d...</td>\n",
       "      <td>0</td>\n",
       "    </tr>\n",
       "    <tr>\n",
       "      <th>68603</th>\n",
       "      <td>A leading FSB officer, Segey Beseda, said duri...</td>\n",
       "      <td>0</td>\n",
       "    </tr>\n",
       "  </tbody>\n",
       "</table>\n",
       "<p>68604 rows × 2 columns</p>\n",
       "</div>"
      ],
      "text/plain": [
       "                                                    text  label\n",
       "0      The head of a conservative Republican faction ...      1\n",
       "1      Transgender people will be allowed for the fir...      1\n",
       "2      The special counsel investigation of links bet...      1\n",
       "3      Trump campaign adviser George Papadopoulos tol...      1\n",
       "4      President Donald Trump called on the U.S. Post...      1\n",
       "...                                                  ...    ...\n",
       "68599  Apparently, the new Kyiv government is in a hu...      0\n",
       "68600  The USA wants to divide Syria.\\r\\n\\r\\nGreat Br...      0\n",
       "68601  The Ukrainian coup d'etat cost the US nothing ...      0\n",
       "68602  The European Parliament falsifies history by d...      0\n",
       "68603  A leading FSB officer, Segey Beseda, said duri...      0\n",
       "\n",
       "[68604 rows x 2 columns]"
      ]
     },
     "execution_count": 16,
     "metadata": {},
     "output_type": "execute_result"
    }
   ],
   "source": [
    "true_df['label'] = 1\n",
    "fake_df['label'] = 0\n",
    "\n",
    "df = pd.concat([true_df, fake_df], ignore_index=True)\n",
    "df"
   ]
  },
  {
   "cell_type": "code",
   "execution_count": 17,
   "metadata": {
    "execution": {
     "iopub.execute_input": "2025-06-08T06:31:20.615352Z",
     "iopub.status.busy": "2025-06-08T06:31:20.615091Z",
     "iopub.status.idle": "2025-06-08T06:31:20.666151Z",
     "shell.execute_reply": "2025-06-08T06:31:20.665034Z",
     "shell.execute_reply.started": "2025-06-08T06:31:20.615328Z"
    },
    "trusted": true
   },
   "outputs": [
    {
     "data": {
      "text/html": [
       "<div>\n",
       "<style scoped>\n",
       "    .dataframe tbody tr th:only-of-type {\n",
       "        vertical-align: middle;\n",
       "    }\n",
       "\n",
       "    .dataframe tbody tr th {\n",
       "        vertical-align: top;\n",
       "    }\n",
       "\n",
       "    .dataframe thead th {\n",
       "        text-align: right;\n",
       "    }\n",
       "</style>\n",
       "<table border=\"1\" class=\"dataframe\">\n",
       "  <thead>\n",
       "    <tr style=\"text-align: right;\">\n",
       "      <th></th>\n",
       "      <th>text</th>\n",
       "      <th>label</th>\n",
       "    </tr>\n",
       "  </thead>\n",
       "  <tbody>\n",
       "    <tr>\n",
       "      <th>0</th>\n",
       "      <td>Former Russian economy minister Alexei Ulyukay...</td>\n",
       "      <td>1</td>\n",
       "    </tr>\n",
       "    <tr>\n",
       "      <th>1</th>\n",
       "      <td>Republicans were just given a leg up over Demo...</td>\n",
       "      <td>0</td>\n",
       "    </tr>\n",
       "    <tr>\n",
       "      <th>2</th>\n",
       "      <td>This has to be one of the best remix videos ev...</td>\n",
       "      <td>0</td>\n",
       "    </tr>\n",
       "    <tr>\n",
       "      <th>3</th>\n",
       "      <td>In line with the new Language Law, Russian is ...</td>\n",
       "      <td>0</td>\n",
       "    </tr>\n",
       "    <tr>\n",
       "      <th>4</th>\n",
       "      <td>JERUSALEM  —   A day after approving the const...</td>\n",
       "      <td>1</td>\n",
       "    </tr>\n",
       "    <tr>\n",
       "      <th>...</th>\n",
       "      <td>...</td>\n",
       "      <td>...</td>\n",
       "    </tr>\n",
       "    <tr>\n",
       "      <th>68599</th>\n",
       "      <td>The Super Bowl had not yet begun and Trump fan...</td>\n",
       "      <td>0</td>\n",
       "    </tr>\n",
       "    <tr>\n",
       "      <th>68600</th>\n",
       "      <td>U.S. House Republicans on Friday won passage o...</td>\n",
       "      <td>1</td>\n",
       "    </tr>\n",
       "    <tr>\n",
       "      <th>68601</th>\n",
       "      <td>Share on Facebook Share on Twitter Known to th...</td>\n",
       "      <td>0</td>\n",
       "    </tr>\n",
       "    <tr>\n",
       "      <th>68602</th>\n",
       "      <td>A New Jersey man who worked at the World Trade...</td>\n",
       "      <td>1</td>\n",
       "    </tr>\n",
       "    <tr>\n",
       "      <th>68603</th>\n",
       "      <td>Turkey and Iran have agreed to discuss within ...</td>\n",
       "      <td>1</td>\n",
       "    </tr>\n",
       "  </tbody>\n",
       "</table>\n",
       "<p>68604 rows × 2 columns</p>\n",
       "</div>"
      ],
      "text/plain": [
       "                                                    text  label\n",
       "0      Former Russian economy minister Alexei Ulyukay...      1\n",
       "1      Republicans were just given a leg up over Demo...      0\n",
       "2      This has to be one of the best remix videos ev...      0\n",
       "3      In line with the new Language Law, Russian is ...      0\n",
       "4      JERUSALEM  —   A day after approving the const...      1\n",
       "...                                                  ...    ...\n",
       "68599  The Super Bowl had not yet begun and Trump fan...      0\n",
       "68600  U.S. House Republicans on Friday won passage o...      1\n",
       "68601  Share on Facebook Share on Twitter Known to th...      0\n",
       "68602  A New Jersey man who worked at the World Trade...      1\n",
       "68603  Turkey and Iran have agreed to discuss within ...      1\n",
       "\n",
       "[68604 rows x 2 columns]"
      ]
     },
     "execution_count": 17,
     "metadata": {},
     "output_type": "execute_result"
    }
   ],
   "source": [
    "df = df.sample(frac=1, random_state=42).reset_index(drop=True) # Shuffle dataset\n",
    "df"
   ]
  },
  {
   "cell_type": "markdown",
   "metadata": {},
   "source": [
    "* Kiểm tra imbalance"
   ]
  },
  {
   "cell_type": "code",
   "execution_count": null,
   "metadata": {},
   "outputs": [],
   "source": [
    "df['label'].value_counts()"
   ]
  },
  {
   "cell_type": "markdown",
   "metadata": {},
   "source": [
    "Dữ liệu không bị imbalance"
   ]
  },
  {
   "cell_type": "code",
   "execution_count": null,
   "metadata": {},
   "outputs": [],
   "source": [
    "import re\n",
    "import pandas as pd\n",
    "\n",
    "def print_matching_rows(df, column_name='text'):\n",
    "    for i, text in df[column_name].items():\n",
    "        found_br = re.search(r'<\\s*br\\s*/?\\s*>', text)\n",
    "        found_hex = re.search(r\"\\\\x[0-9a-fA-F]{2}\", text)\n",
    "\n",
    "        if found_br or found_hex:\n",
    "            print(f\"\\nDòng {i} chứa:\")\n",
    "            if found_br:\n",
    "                print(\"  - Thẻ <br />\")\n",
    "            if found_hex:\n",
    "                print(\"  - Mã hex kiểu \\\\x..\")\n",
    "            print(\"  => Nội dung:\", text)\n",
    "\n",
    "print_matching_rows(df)"
   ]
  },
  {
   "cell_type": "markdown",
   "metadata": {},
   "source": [
    "## Clean text"
   ]
  },
  {
   "cell_type": "markdown",
   "metadata": {},
   "source": [
    "- Làm sạch văn bản (lower, bỏ dấu câu, stopwords, stemming...) + Tokenizer"
   ]
  },
  {
   "cell_type": "code",
   "execution_count": 18,
   "metadata": {
    "execution": {
     "iopub.execute_input": "2025-06-08T06:31:20.667456Z",
     "iopub.status.busy": "2025-06-08T06:31:20.667115Z",
     "iopub.status.idle": "2025-06-08T06:31:20.759848Z",
     "shell.execute_reply": "2025-06-08T06:31:20.758881Z",
     "shell.execute_reply.started": "2025-06-08T06:31:20.667411Z"
    },
    "trusted": true
   },
   "outputs": [
    {
     "name": "stderr",
     "output_type": "stream",
     "text": [
      "[nltk_data] Downloading package stopwords to /usr/share/nltk_data...\n",
      "[nltk_data]   Package stopwords is already up-to-date!\n",
      "[nltk_data] Downloading package punkt to /usr/share/nltk_data...\n",
      "[nltk_data]   Package punkt is already up-to-date!\n"
     ]
    },
    {
     "data": {
      "text/plain": [
       "True"
      ]
     },
     "execution_count": 18,
     "metadata": {},
     "output_type": "execute_result"
    }
   ],
   "source": [
    "# The first running\n",
    "nltk.download('stopwords')\n",
    "nltk.download('punkt')"
   ]
  },
  {
   "cell_type": "code",
   "execution_count": 19,
   "metadata": {
    "execution": {
     "iopub.execute_input": "2025-06-08T06:31:20.761160Z",
     "iopub.status.busy": "2025-06-08T06:31:20.760910Z",
     "iopub.status.idle": "2025-06-08T06:31:20.767952Z",
     "shell.execute_reply": "2025-06-08T06:31:20.766958Z",
     "shell.execute_reply.started": "2025-06-08T06:31:20.761139Z"
    },
    "trusted": true
   },
   "outputs": [],
   "source": [
    "stop_words = set(stopwords.words('english'))\n",
    "stemmer = PorterStemmer()"
   ]
  },
  {
   "cell_type": "code",
   "execution_count": 20,
   "metadata": {
    "execution": {
     "iopub.execute_input": "2025-06-08T06:31:20.769274Z",
     "iopub.status.busy": "2025-06-08T06:31:20.769005Z",
     "iopub.status.idle": "2025-06-08T06:31:47.302485Z",
     "shell.execute_reply": "2025-06-08T06:31:47.301517Z",
     "shell.execute_reply.started": "2025-06-08T06:31:20.769254Z"
    },
    "trusted": true
   },
   "outputs": [
    {
     "data": {
      "text/plain": [
       "0        former russian economy minister alexei ulyukay...\n",
       "1        republicans were just given a leg up over demo...\n",
       "2        this has to be one of the best remix videos ev...\n",
       "3        in line with the new language law, russian is ...\n",
       "4        jerusalem — a day after approving the construc...\n",
       "                               ...                        \n",
       "68599    the super bowl had not yet begun and trump fan...\n",
       "68600    u.s. house republicans on friday won passage o...\n",
       "68601    share on facebook share on twitter known to th...\n",
       "68602    a new jersey man who worked at the world trade...\n",
       "68603    turkey and iran have agreed to discuss within ...\n",
       "Name: clean_text, Length: 68604, dtype: object"
      ]
     },
     "execution_count": 20,
     "metadata": {},
     "output_type": "execute_result"
    }
   ],
   "source": [
    "def clean_text(row):\n",
    "    \"\"\"\n",
    "    Generator to clean text from a pandas Series-like iterable.\n",
    "    Applies regex patterns to normalize text, remove HTML tags, escape sequences, \n",
    "    special characters, URLs and whitespace.\n",
    "    \"\"\"\n",
    "    row = str(row).lower()\n",
    "\n",
    "    # Remove escape characters\n",
    "    row = re.sub(r'[\\t\\r\\n]', ' ', row)\n",
    "\n",
    "    # Remove repeated special chars (ex: __, --,)\n",
    "    row = re.sub(r'[_~+\\-]{2,}', ' ', row)\n",
    "\n",
    "    # Remove unwanted symbols preserving ., !, ?, -\n",
    "    row = re.sub(r\"[<>()|&©ø%\\[\\]\\\\~*\\$€£¥]\", ' ', row)\n",
    "\n",
    "    # Remove HTML <br /> tags\n",
    "    row = re.sub(r'<\\s*br\\s*/?\\s*>', ' ', row)\n",
    "\n",
    "    # Remove hex codes like \\x92\n",
    "    row = re.sub(r\"\\\\x[0-9a-fA-F]{2}\", ' ', row)\n",
    "\n",
    "    # Extract domain from URLs\n",
    "    row = re.sub(r'(https?://)([^/\\s]+)([^\\s]*)', r'\\2', row)\n",
    "\n",
    "    # Normalize multiple spaces\n",
    "    row = re.sub(r'\\s+', ' ', row)\n",
    "\n",
    "    # Xử lý dấu câu dư kiểu \". .\", \"!!\", \"??\"\n",
    "    row = re.sub(r'([.?!])[\\s]*\\1+', r'\\1', row)\n",
    "    \n",
    "    return row.strip()\n",
    "\n",
    "df['clean_text'] = df['text'].apply(clean_text) # có thể xử lý ở model training\n",
    "df['clean_text']"
   ]
  },
  {
   "cell_type": "code",
   "execution_count": null,
   "metadata": {},
   "outputs": [],
   "source": [
    "print(\"Discovery text of data:\\n\")\n",
    "\n",
    "print(f\"Data 1454: {df['text'][1454]}\\n\")\n",
    "print(f\"Clean data 1454: {df['clean_text'][1454]}\\n\")\n",
    "\n",
    "print(f\"Data 19802: {df['text'][19802]}\\n\")\n",
    "print(f\"Clean data 19802: {df['clean_text'][19802]}\\n\")"
   ]
  },
  {
   "cell_type": "code",
   "execution_count": 21,
   "metadata": {
    "execution": {
     "iopub.execute_input": "2025-06-08T06:31:47.306065Z",
     "iopub.status.busy": "2025-06-08T06:31:47.305772Z",
     "iopub.status.idle": "2025-06-08T06:31:47.311978Z",
     "shell.execute_reply": "2025-06-08T06:31:47.310743Z",
     "shell.execute_reply.started": "2025-06-08T06:31:47.306043Z"
    },
    "trusted": true
   },
   "outputs": [],
   "source": [
    "def tokenize_and_filter(text):  # dùng cho các mô hình truyền thống như TF-IDF\n",
    "    # Mở rộng các từ viết tắt (contractions)\n",
    "    text = contractions.fix(text)\n",
    "\n",
    "    # Tokenize\n",
    "    tokens = word_tokenize(text)\n",
    "\n",
    "    # Lọc stopwords và chỉ giữ từ alphabet -> stemming\n",
    "    return [stemmer.stem(w) for w in tokens if w.lower() not in stop_words and w.isalpha()]"
   ]
  },
  {
   "cell_type": "code",
   "execution_count": 22,
   "metadata": {
    "execution": {
     "iopub.execute_input": "2025-06-08T06:31:47.313223Z",
     "iopub.status.busy": "2025-06-08T06:31:47.312962Z",
     "iopub.status.idle": "2025-06-08T06:31:47.335499Z",
     "shell.execute_reply": "2025-06-08T06:31:47.334259Z",
     "shell.execute_reply.started": "2025-06-08T06:31:47.313203Z"
    },
    "trusted": true
   },
   "outputs": [],
   "source": [
    "def tokenize_texts(tokenizer, texts, max_length=512): # dùng cho các mô hình như BERT\n",
    "    return tokenizer(\n",
    "        texts,\n",
    "        truncation=True,      # Cắt bớt nếu dài hơn max_length\n",
    "        padding=True,         # Tự động thêm padding để đồng đều độ dài\n",
    "        max_length=max_length # Độ dài tối đa mỗi đoạn văn\n",
    "    )"
   ]
  }
 ],
 "metadata": {
  "colab": {
   "provenance": []
  },
  "kaggle": {
   "accelerator": "none",
   "dataSources": [
    {
     "datasetId": 7613195,
     "sourceId": 12093802,
     "sourceType": "datasetVersion"
    }
   ],
   "dockerImageVersionId": 31040,
   "isGpuEnabled": false,
   "isInternetEnabled": true,
   "language": "python",
   "sourceType": "notebook"
  },
  "kernelspec": {
   "display_name": "Python 3",
   "language": "python",
   "name": "python3"
  },
  "language_info": {
   "codemirror_mode": {
    "name": "ipython",
    "version": 3
   },
   "file_extension": ".py",
   "mimetype": "text/x-python",
   "name": "python",
   "nbconvert_exporter": "python",
   "pygments_lexer": "ipython3",
   "version": "3.11.11"
  }
 },
 "nbformat": 4,
 "nbformat_minor": 4
}
